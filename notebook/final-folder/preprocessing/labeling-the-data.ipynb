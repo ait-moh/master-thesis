{
 "cells": [
  {
   "cell_type": "code",
   "execution_count": 60,
   "id": "6fe0181f-2fa2-4275-9bcd-37f11414fde5",
   "metadata": {},
   "outputs": [],
   "source": [
    "import pandas as pd\n",
    "\n",
    "# Load your dataset\n",
    "file_path = '../data/test_set_window.csv'\n",
    "#file_path = '../data/rfcc_longest_active_window.csv'\n",
    "\n",
    "df = pd.read_csv(file_path, delimiter=',')\n",
    "\n",
    "# Convert DateTime to datetime object and set it as index\n",
    "df['DateTime'] = pd.to_datetime(df['DateTime'], errors='coerce')\n",
    "df.set_index('DateTime', inplace=True)\n",
    "\n",
    "# Define the attribute of interest\n",
    "attribute  = \"530R002D02.TI0036.MEAS\"\n",
    "attribute2 = \"530M105D01.TIC0022.MEAS\"\n",
    "# Calculate the 10th and 90th percentile thresholds\n",
    "lower_bound = df[attribute2].quantile(0.00155)\n",
    "upper_bound = df[attribute].quantile(1)\n",
    "\n",
    "# Label anomalies: 1 for anomaly, 0 for normal\n",
    "df['labels'] = ((df[attribute2] < lower_bound) | (df[attribute] > upper_bound)).astype(int)\n",
    "\n",
    "# Create cleaned version\n",
    "df_cleaned = df.copy()\n",
    "\n",
    "# Get columns to interpolate (excluding the label column)\n",
    "columns_to_interpolate = [col for col in df.columns if col != 'labels']\n",
    "\n",
    "# Replace all values in anomalous rows with NaN for selected columns\n",
    "df_cleaned.loc[df_cleaned['labels'] == 1, columns_to_interpolate] = None\n",
    "\n",
    "# Interpolate the entire DataFrame (only on the selected columns)\n",
    "df_cleaned[columns_to_interpolate] = df_cleaned[columns_to_interpolate].interpolate(\n",
    "    method='linear', limit_direction='both'\n",
    ")\n"
   ]
  },
  {
   "cell_type": "code",
   "execution_count": 61,
   "id": "274f3442-8de7-4e64-8264-56101de53e8d",
   "metadata": {},
   "outputs": [
    {
     "data": {
      "text/plain": [
       "(7331, 27)"
      ]
     },
     "execution_count": 61,
     "metadata": {},
     "output_type": "execute_result"
    }
   ],
   "source": [
    "df_cleaned.shape"
   ]
  },
  {
   "cell_type": "code",
   "execution_count": 62,
   "id": "3e171827-a9a6-421d-a477-59a326cdce1f",
   "metadata": {},
   "outputs": [
    {
     "data": {
      "text/plain": [
       "674.6922172851563"
      ]
     },
     "execution_count": 62,
     "metadata": {},
     "output_type": "execute_result"
    }
   ],
   "source": [
    "lower_bound"
   ]
  },
  {
   "cell_type": "code",
   "execution_count": null,
   "id": "96c29f68-9002-4bdb-aafc-34cc876a0e46",
   "metadata": {},
   "outputs": [],
   "source": [
    "674.7158203125"
   ]
  },
  {
   "cell_type": "code",
   "execution_count": 63,
   "id": "40d76884-0377-42d5-86d7-28542072ad5b",
   "metadata": {},
   "outputs": [
    {
     "data": {
      "text/plain": [
       "722.640625"
      ]
     },
     "execution_count": 63,
     "metadata": {},
     "output_type": "execute_result"
    }
   ],
   "source": [
    "upper_bound"
   ]
  },
  {
   "cell_type": "code",
   "execution_count": null,
   "id": "665e53f6-6935-4a35-95b0-0196e620627a",
   "metadata": {},
   "outputs": [],
   "source": [
    "740.859375"
   ]
  },
  {
   "cell_type": "code",
   "execution_count": 64,
   "id": "ac75a076-dfbc-429a-9b7b-ef2020f7fbd3",
   "metadata": {},
   "outputs": [
    {
     "name": "stdout",
     "output_type": "stream",
     "text": [
      "📊 Anomalies represent 0.16% of the dataset.\n"
     ]
    }
   ],
   "source": [
    "# ========================\n",
    "# Compute Anomaly Percentage\n",
    "# ========================\n",
    "anomaly_percentage = 100 * df['labels'].mean()\n",
    "print(f\"📊 Anomalies represent {anomaly_percentage:.2f}% of the dataset.\")\n"
   ]
  },
  {
   "cell_type": "code",
   "execution_count": 65,
   "id": "1b9bc077-84b9-4f3c-be20-c38d65092791",
   "metadata": {},
   "outputs": [
    {
     "name": "stdout",
     "output_type": "stream",
     "text": [
      "✅ Saved:\n",
      "- 'original_labeled_dataset.csv' with original data + labels\n",
      "- 'cleaned_labeled_dataset.csv' with anomalies replaced + labels\n"
     ]
    }
   ],
   "source": [
    "# Save original + labeled version\n",
    "df.to_csv('../data/test_set.csv')\n",
    "\n",
    "#df.to_csv('../data/preprocessed_data.csv')\n",
    "# Save cleaned + labeled version\n",
    "#df_cleaned.to_csv('../data/cleaned_labeled_dataset.csv')\n",
    "\n",
    "print(\"✅ Saved:\")\n",
    "print(\"- 'original_labeled_dataset.csv' with original data + labels\")\n",
    "print(\"- 'cleaned_labeled_dataset.csv' with anomalies replaced + labels\")"
   ]
  }
 ],
 "metadata": {
  "kernelspec": {
   "display_name": "Python 3 (ipykernel)",
   "language": "python",
   "name": "python3"
  },
  "language_info": {
   "codemirror_mode": {
    "name": "ipython",
    "version": 3
   },
   "file_extension": ".py",
   "mimetype": "text/x-python",
   "name": "python",
   "nbconvert_exporter": "python",
   "pygments_lexer": "ipython3",
   "version": "3.9.21"
  }
 },
 "nbformat": 4,
 "nbformat_minor": 5
}
