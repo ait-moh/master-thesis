{
 "cells": [
  {
   "cell_type": "code",
   "execution_count": 1,
   "id": "86c6805f-17e8-4260-b834-12e594902e78",
   "metadata": {},
   "outputs": [
    {
     "name": "stdout",
     "output_type": "stream",
     "text": [
      "📅 Second longest active RFCC window: 2024-01-23 16:19:30 → 2024-04-16 22:06:00\n",
      "🔢 Window length: 242614 rows\n"
     ]
    }
   ],
   "source": [
    "import pandas as pd\n",
    "\n",
    "# Load the dataset\n",
    "file_path = '../data/dataset_reduced-10min-one-target-variable-TI0036.csv'\n",
    "df = pd.read_csv(file_path, delimiter=',')\n",
    "df['DateTime'] = pd.to_datetime(df['DateTime'], errors='coerce')\n",
    "\n",
    "# Identify where RFCC is active\n",
    "rfcc_active = df['530C021D01.FIC0203.MEAS'] >= 95\n",
    "\n",
    "# Mark continuous groups\n",
    "df['rfcc_active'] = rfcc_active.astype(int)\n",
    "df['group'] = (df['rfcc_active'] != df['rfcc_active'].shift()).cumsum()\n",
    "\n",
    "# Find sizes of all active segments\n",
    "active_groups = df[df['rfcc_active'] == 1].groupby('group')\n",
    "group_sizes = active_groups.size()\n",
    "\n",
    "# Find the second longest active segment\n",
    "second_longest_group = group_sizes.sort_values(ascending=False).index[1]\n",
    "\n",
    "# Filter to the second longest segment\n",
    "df_active = df[df['group'] == second_longest_group].copy()\n",
    "\n",
    "# Drop helper columns\n",
    "df_active.drop(columns=['rfcc_active', 'group'], inplace=True)\n",
    "\n",
    "# Output window info\n",
    "start_time = df_active['DateTime'].min()\n",
    "end_time = df_active['DateTime'].max()\n",
    "num_rows = len(df_active)\n",
    "print(f\"📅 Second longest active RFCC window: {start_time} → {end_time}\")\n",
    "print(f\"🔢 Window length: {num_rows} rows\")\n"
   ]
  },
  {
   "cell_type": "code",
   "execution_count": 25,
   "id": "bcc73658-a8b8-4ce0-9f98-1254ceac346a",
   "metadata": {},
   "outputs": [
    {
     "name": "stdout",
     "output_type": "stream",
     "text": [
      "📅 Second longest active RFCC window: 2024-01-23 16:18:00 → 2024-04-16 22:03:00\n",
      "🔢 Window length: 40436 rows\n"
     ]
    }
   ],
   "source": [
    "import pandas as pd\n",
    "\n",
    "# Load the dataset\n",
    "file_path = '../data/dataset_reduced-10min-one-target-variable-TI0036.csv'\n",
    "df = pd.read_csv(file_path, delimiter=',')\n",
    "df['DateTime'] = pd.to_datetime(df['DateTime'], errors='coerce')\n",
    "\n",
    "# Identify where RFCC is active\n",
    "rfcc_active = df['530C021D01.FIC0203.MEAS'] >= 95\n",
    "\n",
    "# Mark continuous groups\n",
    "df['rfcc_active'] = rfcc_active.astype(int)\n",
    "df['group'] = (df['rfcc_active'] != df['rfcc_active'].shift()).cumsum()\n",
    "\n",
    "# Find sizes of all active segments\n",
    "active_groups = df[df['rfcc_active'] == 1].groupby('group')\n",
    "group_sizes = active_groups.size()\n",
    "\n",
    "# Find the second longest active segment\n",
    "second_longest_group = group_sizes.sort_values(ascending=False).index[1]\n",
    "\n",
    "# Filter to the second longest segment\n",
    "df_active = df[df['group'] == second_longest_group].copy()\n",
    "\n",
    "# Drop helper columns\n",
    "df_active.drop(columns=['rfcc_active', 'group'], inplace=True)\n",
    "\n",
    "# Output window info\n",
    "start_time = df_active['DateTime'].min()\n",
    "end_time = df_active['DateTime'].max()\n",
    "num_rows = len(df_active)\n",
    "print(f\"📅 Second longest active RFCC window: {start_time} → {end_time}\")\n",
    "print(f\"🔢 Window length: {num_rows} rows\")\n"
   ]
  },
  {
   "cell_type": "code",
   "execution_count": 26,
   "id": "fb0e36d6-96ac-41c1-a84f-af8a546666e9",
   "metadata": {},
   "outputs": [
    {
     "data": {
      "text/plain": [
       "(40436, 27)"
      ]
     },
     "execution_count": 26,
     "metadata": {},
     "output_type": "execute_result"
    }
   ],
   "source": [
    "df_active.shape"
   ]
  },
  {
   "cell_type": "code",
   "execution_count": 27,
   "id": "11fdb33b-4763-4eef-a889-68689f5217bb",
   "metadata": {},
   "outputs": [],
   "source": [
    "# Save the reduced dataset\n",
    "df_active.to_csv('../data/test_set_window.csv', index=False)"
   ]
  }
 ],
 "metadata": {
  "kernelspec": {
   "display_name": "Python 3 (ipykernel)",
   "language": "python",
   "name": "python3"
  },
  "language_info": {
   "codemirror_mode": {
    "name": "ipython",
    "version": 3
   },
   "file_extension": ".py",
   "mimetype": "text/x-python",
   "name": "python",
   "nbconvert_exporter": "python",
   "pygments_lexer": "ipython3",
   "version": "3.9.21"
  }
 },
 "nbformat": 4,
 "nbformat_minor": 5
}
