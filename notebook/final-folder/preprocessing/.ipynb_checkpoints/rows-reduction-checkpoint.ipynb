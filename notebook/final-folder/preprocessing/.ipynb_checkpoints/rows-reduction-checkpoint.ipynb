{
 "cells": [
  {
   "cell_type": "code",
   "execution_count": 2,
   "id": "86c6805f-17e8-4260-b834-12e594902e78",
   "metadata": {},
   "outputs": [
    {
     "name": "stdout",
     "output_type": "stream",
     "text": [
      "📅 Longest active RFCC window: 2024-04-17 04:10:00 → 2024-08-24 16:40:00\n",
      "🔢 Window length: 18652 rows\n"
     ]
    }
   ],
   "source": [
    "import pandas as pd\n",
    "\n",
    "# Load the dataset\n",
    "file_path = '../data/dataset_reduced-10min-one-target-variable-TI0036.csv'\n",
    "df = pd.read_csv(file_path, delimiter=',')\n",
    "df['DateTime'] = pd.to_datetime(df['DateTime'], errors='coerce')\n",
    "\n",
    "# Identify where RFCC is active\n",
    "rfcc_active = df['530C021D01.FIC0203.MEAS'] >= 95\n",
    "\n",
    "# Mark continuous groups\n",
    "df['rfcc_active'] = rfcc_active.astype(int)\n",
    "df['group'] = (df['rfcc_active'] != df['rfcc_active'].shift()).cumsum()\n",
    "\n",
    "# Find longest active segment\n",
    "active_groups = df[df['rfcc_active'] == 1].groupby('group')\n",
    "longest_active_segment = active_groups.size().idxmax()\n",
    "\n",
    "# Filter to longest segment\n",
    "df_active = df[df['group'] == longest_active_segment].copy()\n",
    "\n",
    "# Drop helper columns\n",
    "df_active.drop(columns=['rfcc_active', 'group'], inplace=True)\n",
    "\n",
    "# Output window info\n",
    "start_time = df_active['DateTime'].min()\n",
    "end_time = df_active['DateTime'].max()\n",
    "num_rows = len(df_active)\n",
    "print(f\"📅 Longest active RFCC window: {start_time} → {end_time}\")\n",
    "print(f\"🔢 Window length: {num_rows} rows\")\n",
    "\n",
    "# Save the reduced dataset\n",
    "df_active.to_csv('../data/rfcc_longest_active_window.csv', index=False)\n"
   ]
  },
  {
   "cell_type": "code",
   "execution_count": 3,
   "id": "ba2e8387-94f9-46ea-9411-34301d6bf2f1",
   "metadata": {},
   "outputs": [
    {
     "data": {
      "text/plain": [
       "(18652, 27)"
      ]
     },
     "execution_count": 3,
     "metadata": {},
     "output_type": "execute_result"
    }
   ],
   "source": [
    "df_active.shape"
   ]
  }
 ],
 "metadata": {
  "kernelspec": {
   "display_name": "Python 3 (ipykernel)",
   "language": "python",
   "name": "python3"
  },
  "language_info": {
   "codemirror_mode": {
    "name": "ipython",
    "version": 3
   },
   "file_extension": ".py",
   "mimetype": "text/x-python",
   "name": "python",
   "nbconvert_exporter": "python",
   "pygments_lexer": "ipython3",
   "version": "3.9.21"
  }
 },
 "nbformat": 4,
 "nbformat_minor": 5
}
