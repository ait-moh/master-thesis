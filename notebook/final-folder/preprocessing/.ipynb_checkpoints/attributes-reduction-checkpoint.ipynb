{
 "cells": [
  {
   "cell_type": "code",
   "execution_count": 1,
   "id": "a590c2f3-8248-4a72-9b75-78889cc7f130",
   "metadata": {},
   "outputs": [],
   "source": [
    "import numpy as np\n",
    "import pandas as pd\n",
    "import matplotlib.pyplot as plt"
   ]
  },
  {
   "cell_type": "code",
   "execution_count": 6,
   "id": "8798152b-0167-4788-961b-c4a17e224d15",
   "metadata": {},
   "outputs": [],
   "source": [
    "# Load the dataset\n",
    "file_path = '../data/rfcc_tuning_10min.csv'\n",
    "df = pd.read_csv(file_path, delimiter=',')\n",
    "df['DateTime'] = pd.to_datetime(df['DateTime'], errors='coerce')\n",
    "# 🔹 Store DateTime column separately\n",
    "date_column = df[['DateTime']]\n",
    "# Drop columns with more than 30% missing values\n",
    "df.dropna(axis=1, thresh=int(0.7 * len(df)), inplace=True)\n",
    "# Fill missing values by forward filling\n",
    "df.ffill(inplace=True)\n",
    "\n",
    "# Fill any remaining missing values by backward filling\n",
    "df.bfill(inplace=True)\n",
    "\n",
    "# 🔹 Drop non-numeric columns for PCA\n",
    "df_numeric = df.drop(columns=['DateTime'])\n"
   ]
  },
  {
   "cell_type": "code",
   "execution_count": 7,
   "id": "5b343e27-532e-4af1-bf22-0661bf8a494f",
   "metadata": {},
   "outputs": [
    {
     "name": "stdout",
     "output_type": "stream",
     "text": [
      "✅ Feature selection complete! Reduced dataset shape: (57312, 27)\n",
      "📉 Dropped 45 highly correlated features\n"
     ]
    }
   ],
   "source": [
    "# 🔹 Compute correlation matrix\n",
    "corr_matrix = df_numeric.corr().abs()\n",
    "\n",
    "# 🔹 Set a threshold for high correlation (e.g., 0.95)\n",
    "threshold = 0.95\n",
    "\n",
    "# 🔹 Define target variables (must always be kept)\n",
    "target_columns = [\n",
    "    '530R002D02.TI0036.MEAS',\n",
    "]\n",
    "\n",
    "# 🔹 Find and remove highly correlated features (except target variables)\n",
    "columns_to_drop = set()\n",
    "for i in range(len(corr_matrix.columns)):\n",
    "    for j in range(i + 1, len(corr_matrix.columns)):  # Only check the upper triangle\n",
    "        if corr_matrix.iloc[i, j] > threshold:\n",
    "            col_to_remove = corr_matrix.columns[j]\n",
    "            # Ensure we don't remove target variables\n",
    "            if col_to_remove not in target_columns:\n",
    "                columns_to_drop.add(col_to_remove)\n",
    "\n",
    "# 🔹 Keep only the selected features (including target variables)\n",
    "selected_features = [col for col in df_numeric.columns if col not in columns_to_drop or col in target_columns]\n",
    "df_reduced = df_numeric[selected_features]\n",
    "\n",
    "# 🔹 Add back the DateTime column\n",
    "df_reduced = pd.concat([date_column.reset_index(drop=True), df_reduced], axis=1)\n",
    "\n",
    "# 🔹 Save the reduced dataset\n",
    "df_reduced.to_csv(\"../data/dataset_reduced-10min-one-target-variable-TI0036.csv\", index=False)\n",
    "\n",
    "print(f\"✅ Feature selection complete! Reduced dataset shape: {df_reduced.shape}\")\n",
    "print(f\"📉 Dropped {len(columns_to_drop)} highly correlated features\")\n"
   ]
  }
 ],
 "metadata": {
  "kernelspec": {
   "display_name": "Python 3 (ipykernel)",
   "language": "python",
   "name": "python3"
  },
  "language_info": {
   "codemirror_mode": {
    "name": "ipython",
    "version": 3
   },
   "file_extension": ".py",
   "mimetype": "text/x-python",
   "name": "python",
   "nbconvert_exporter": "python",
   "pygments_lexer": "ipython3",
   "version": "3.9.21"
  }
 },
 "nbformat": 4,
 "nbformat_minor": 5
}
