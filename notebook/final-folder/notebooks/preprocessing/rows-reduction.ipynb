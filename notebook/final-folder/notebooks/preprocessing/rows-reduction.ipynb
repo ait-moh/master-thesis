{
 "cells": [
  {
   "cell_type": "code",
   "execution_count": 9,
   "id": "86c6805f-17e8-4260-b834-12e594902e78",
   "metadata": {},
   "outputs": [
    {
     "name": "stdout",
     "output_type": "stream",
     "text": [
      "📅 Second longest active RFCC window: 2024-04-17 04:12:00 → 2024-08-24 16:51:00\n",
      "🔢 Window length: 62174 rows\n"
     ]
    }
   ],
   "source": [
    "import pandas as pd\n",
    "\n",
    "# Load the dataset\n",
    "file_path = '../data/dataset_reduced-10min-one-target-variable-TI0036.csv'\n",
    "df = pd.read_csv(file_path, delimiter=',')\n",
    "df['DateTime'] = pd.to_datetime(df['DateTime'], errors='coerce')\n",
    "\n",
    "# Identify where RFCC is active\n",
    "rfcc_active = df['530C021D01.FIC0203.MEAS'] >= 95\n",
    "\n",
    "# Mark continuous groups\n",
    "df['rfcc_active'] = rfcc_active.astype(int)\n",
    "df['group'] = (df['rfcc_active'] != df['rfcc_active'].shift()).cumsum()\n",
    "\n",
    "# Find sizes of all active segments\n",
    "active_groups = df[df['rfcc_active'] == 1].groupby('group')\n",
    "group_sizes = active_groups.size()\n",
    "\n",
    "# Find the second longest active segment\n",
    "second_longest_group = group_sizes.sort_values(ascending=False).index[0]\n",
    "\n",
    "# Filter to the second longest segment\n",
    "df_active = df[df['group'] == second_longest_group].copy()\n",
    "\n",
    "# Drop helper columns\n",
    "df_active.drop(columns=['rfcc_active', 'group'], inplace=True)\n",
    "\n",
    "# Output window info\n",
    "start_time = df_active['DateTime'].min()\n",
    "end_time = df_active['DateTime'].max()\n",
    "num_rows = len(df_active)\n",
    "print(f\"📅 Second longest active RFCC window: {start_time} → {end_time}\")\n",
    "print(f\"🔢 Window length: {num_rows} rows\")\n"
   ]
  },
  {
   "cell_type": "code",
   "execution_count": 9,
   "id": "83587052-bdf0-4d3e-ac37-67792aacd777",
   "metadata": {},
   "outputs": [
    {
     "name": "stdout",
     "output_type": "stream",
     "text": [
      "📅 Concatenated active RFCC windows: 2024-04-17 04:12:00 → 2024-12-06 17:21:00\n",
      "🔢 Total concatenated window length: 92277 rows\n"
     ]
    }
   ],
   "source": [
    "import pandas as pd\n",
    "\n",
    "# Load the dataset\n",
    "file_path = '../data/dataset_reduced-10min-one-target-variable-TI0036.csv'\n",
    "df = pd.read_csv(file_path, delimiter=',')\n",
    "df['DateTime'] = pd.to_datetime(df['DateTime'], errors='coerce')\n",
    "\n",
    "# Identify where RFCC is active\n",
    "rfcc_active = df['530C021D01.FIC0203.MEAS'] >= 95\n",
    "\n",
    "# Mark continuous groups\n",
    "df['rfcc_active'] = rfcc_active.astype(int)\n",
    "df['group'] = (df['rfcc_active'] != df['rfcc_active'].shift()).cumsum()\n",
    "\n",
    "# Find sizes of all active segments\n",
    "active_groups = df[df['rfcc_active'] == 1].groupby('group')\n",
    "group_sizes = active_groups.size()\n",
    "\n",
    "# Get the first and third longest active segments\n",
    "top_groups = group_sizes.sort_values(ascending=False).index[[0, 2]]\n",
    "\n",
    "# Concatenate the corresponding windows\n",
    "df_active_0 = df[df['group'] == top_groups[0]].copy()\n",
    "df_active_2 = df[df['group'] == top_groups[1]].copy()\n",
    "df_active_concat = pd.concat([df_active_0, df_active_2]).sort_values('DateTime')\n",
    "\n",
    "# Drop helper columns\n",
    "df_active_concat.drop(columns=['rfcc_active', 'group'], inplace=True)\n",
    "\n",
    "# Output info\n",
    "start_time = df_active_concat['DateTime'].min()\n",
    "end_time = df_active_concat['DateTime'].max()\n",
    "num_rows = len(df_active_concat)\n",
    "print(f\"📅 Concatenated active RFCC windows: {start_time} → {end_time}\")\n",
    "print(f\"🔢 Total concatenated window length: {num_rows} rows\")\n"
   ]
  },
  {
   "cell_type": "code",
   "execution_count": 6,
   "id": "ba2e8387-94f9-46ea-9411-34301d6bf2f1",
   "metadata": {},
   "outputs": [
    {
     "ename": "NameError",
     "evalue": "name 'df_active' is not defined",
     "output_type": "error",
     "traceback": [
      "\u001b[1;31m---------------------------------------------------------------------------\u001b[0m",
      "\u001b[1;31mNameError\u001b[0m                                 Traceback (most recent call last)",
      "Cell \u001b[1;32mIn[6], line 1\u001b[0m\n\u001b[1;32m----> 1\u001b[0m \u001b[43mdf_active\u001b[49m\u001b[38;5;241m.\u001b[39mshape\n",
      "\u001b[1;31mNameError\u001b[0m: name 'df_active' is not defined"
     ]
    }
   ],
   "source": [
    "df_active.shape"
   ]
  },
  {
   "cell_type": "code",
   "execution_count": 10,
   "id": "9761c035-1c51-4059-95ac-13ab9acc9b57",
   "metadata": {},
   "outputs": [
    {
     "data": {
      "text/plain": [
       "(92277, 26)"
      ]
     },
     "execution_count": 10,
     "metadata": {},
     "output_type": "execute_result"
    }
   ],
   "source": [
    "df_active_concat.shape"
   ]
  },
  {
   "cell_type": "code",
   "execution_count": 11,
   "id": "48132d87-0321-4f58-8773-8c0be93c45be",
   "metadata": {},
   "outputs": [],
   "source": [
    "# Save the reduced dataset\n",
    "df_active.to_csv('../data/rfcc_longest_active_window.csv', index=False)"
   ]
  },
  {
   "cell_type": "code",
   "execution_count": 11,
   "id": "2a64297c-5a5d-4b76-afdb-dc4720001a3b",
   "metadata": {},
   "outputs": [],
   "source": [
    "# Save the reduced dataset\n",
    "df_active_concat.to_csv('../data/rfcc_longest_active_window.csv', index=False)"
   ]
  }
 ],
 "metadata": {
  "kernelspec": {
   "display_name": "Python 3 (ipykernel)",
   "language": "python",
   "name": "python3"
  },
  "language_info": {
   "codemirror_mode": {
    "name": "ipython",
    "version": 3
   },
   "file_extension": ".py",
   "mimetype": "text/x-python",
   "name": "python",
   "nbconvert_exporter": "python",
   "pygments_lexer": "ipython3",
   "version": "3.9.21"
  }
 },
 "nbformat": 4,
 "nbformat_minor": 5
}
