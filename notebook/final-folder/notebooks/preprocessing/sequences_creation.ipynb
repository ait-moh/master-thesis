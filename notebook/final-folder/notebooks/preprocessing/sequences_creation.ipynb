{
 "cells": [
  {
   "cell_type": "code",
   "execution_count": 2,
   "id": "023fbc31-9687-4ec0-994f-c15ca90e8cca",
   "metadata": {},
   "outputs": [
    {
     "name": "stdout",
     "output_type": "stream",
     "text": [
      "✅ Loading test data...\n",
      "Loaded 40436 rows from ../data/test_set.csv\n",
      "✅ Saved sequence 1: sequence_1_len10.csv (10 rows)\n",
      "✅ Saved sequence 2: sequence_2_len10.csv (10 rows)\n",
      "✅ Saved sequence 3: sequence_3_len10.csv (10 rows)\n",
      "✅ Saved sequence 4: sequence_4_len10.csv (10 rows)\n",
      "✅ Saved sequence 5: sequence_5_len10.csv (10 rows)\n",
      "✅ Saved sequence 6: sequence_6_len10.csv (10 rows)\n",
      "✅ Saved sequence 7: sequence_7_len10.csv (10 rows)\n",
      "✅ Saved sequence 8: sequence_8_len10.csv (10 rows)\n",
      "✅ Saved sequence 9: sequence_9_len10.csv (10 rows)\n",
      "✅ Saved sequence 10: sequence_10_len10.csv (10 rows)\n",
      "\n",
      "✅ All sequences generated and saved.\n"
     ]
    }
   ],
   "source": [
    "import pandas as pd\n",
    "import numpy as np\n",
    "import os\n",
    "from datetime import datetime\n",
    "\n",
    "# =====================\n",
    "# 1. Configuration\n",
    "# =====================\n",
    "TEST_CSV_PATH = '../data/test_set.csv'  # Path to your input test CSV\n",
    "OUTPUT_FOLDER = '../data/test_sequences/'  # Folder to save output sequences\n",
    "NUM_SEQUENCES = 10\n",
    "SEQUENCE_LENGTH = 10  # Fixed sequence length\n",
    "RANDOM_SEED = 42\n",
    "\n",
    "np.random.seed(RANDOM_SEED)\n",
    "\n",
    "# =====================\n",
    "# 2. Load Test Data\n",
    "# =====================\n",
    "print(\"\\u2705 Loading test data...\")\n",
    "df = pd.read_csv(TEST_CSV_PATH, parse_dates=['DateTime'], index_col='DateTime')\n",
    "print(f\"Loaded {len(df)} rows from {TEST_CSV_PATH}\")\n",
    "\n",
    "# =====================\n",
    "# 3. Create Fixed-Length Sequences\n",
    "# =====================\n",
    "if not os.path.exists(OUTPUT_FOLDER):\n",
    "    os.makedirs(OUTPUT_FOLDER)\n",
    "\n",
    "for i in range(NUM_SEQUENCES):\n",
    "    start_idx = np.random.randint(0, len(df) - SEQUENCE_LENGTH)\n",
    "    end_idx = start_idx + SEQUENCE_LENGTH\n",
    "\n",
    "    seq = df.iloc[start_idx:end_idx]\n",
    "\n",
    "    file_name = f\"sequence_{i+1}_len{SEQUENCE_LENGTH}.csv\"\n",
    "    file_path = os.path.join(OUTPUT_FOLDER, file_name)\n",
    "    seq.to_csv(file_path)\n",
    "    print(f\"\\u2705 Saved sequence {i+1}: {file_name} ({SEQUENCE_LENGTH} rows)\")\n",
    "\n",
    "print(\"\\n\\u2705 All sequences generated and saved.\")"
   ]
  }
 ],
 "metadata": {
  "kernelspec": {
   "display_name": "Python 3 (ipykernel)",
   "language": "python",
   "name": "python3"
  },
  "language_info": {
   "codemirror_mode": {
    "name": "ipython",
    "version": 3
   },
   "file_extension": ".py",
   "mimetype": "text/x-python",
   "name": "python",
   "nbconvert_exporter": "python",
   "pygments_lexer": "ipython3",
   "version": "3.9.21"
  }
 },
 "nbformat": 4,
 "nbformat_minor": 5
}
