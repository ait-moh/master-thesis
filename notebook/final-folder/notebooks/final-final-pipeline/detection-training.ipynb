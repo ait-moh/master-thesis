{
 "cells": [
  {
   "cell_type": "markdown",
   "id": "ead11466",
   "metadata": {},
   "source": [
    "### IMPORTS"
   ]
  },
  {
   "cell_type": "code",
   "execution_count": 1,
   "id": "7bb4d61b-9db8-4f7f-b49a-303bf6cdd262",
   "metadata": {},
   "outputs": [],
   "source": [
    "import numpy as np\n",
    "import pandas as pd\n",
    "import matplotlib.pyplot as plt\n",
    "from sklearn.preprocessing import MinMaxScaler\n",
    "from sklearn.model_selection import train_test_split\n",
    "from sklearn.metrics import mean_squared_error, mean_absolute_error, precision_score, recall_score, f1_score\n",
    "import tensorflow as tf\n",
    "from tensorflow.keras.models import Model\n",
    "from tensorflow.keras.layers import (Input, Dense, LSTM, RepeatVector, TimeDistributed,\n",
    "                                    MultiHeadAttention, LayerNormalization, Dropout, GlobalAveragePooling1D,\n",
    "                                    Conv1D,Bidirectional,Concatenate,Add)\n",
    "from tensorflow.keras.callbacks import EarlyStopping\n",
    "from tensorflow.keras.optimizers import Adam\n",
    "from tensorflow.python.client import device_lib\n",
    "import os\n",
    "import gc\n",
    "import tensorflow.keras.backend as K\n",
    "import joblib"
   ]
  },
  {
   "cell_type": "markdown",
   "id": "34bdc708",
   "metadata": {},
   "source": [
    "### DEVICE SETUP"
   ]
  },
  {
   "cell_type": "code",
   "execution_count": 2,
   "id": "dd3a9849",
   "metadata": {},
   "outputs": [
    {
     "name": "stdout",
     "output_type": "stream",
     "text": [
      "✅ GPU is available and will be used.\n"
     ]
    }
   ],
   "source": [
    "gpus = tf.config.list_physical_devices('GPU')\n",
    "if gpus:\n",
    "    try:\n",
    "        for gpu in gpus:\n",
    "            tf.config.experimental.set_memory_growth(gpu, True)\n",
    "        tf.config.set_visible_devices(gpus[0], 'GPU')\n",
    "        print(\"✅ GPU is available and will be used.\")\n",
    "    except RuntimeError as e:\n",
    "        print(e)\n",
    "else:\n",
    "    print(\"⚠️ No GPU detected, running on CPU.\")"
   ]
  },
  {
   "cell_type": "markdown",
   "id": "a5732311",
   "metadata": {},
   "source": [
    "### LOAD AND PREPROCESS TRAINING SET"
   ]
  },
  {
   "cell_type": "code",
   "execution_count": 3,
   "id": "ad884dbe-2345-4ccf-873a-314c475db55e",
   "metadata": {},
   "outputs": [
    {
     "name": "stdout",
     "output_type": "stream",
     "text": [
      "✅ Found 'labels' column in detection dataset. Extracting for later evaluation.\n"
     ]
    }
   ],
   "source": [
    "# Load detection dataset\n",
    "# file_path_detection = '../../data/cleaned_labeled_dataset.csv'\n",
    "file_path_detection = '../../../data/cleaned_labeled_dataset.csv'\n",
    "#file_path_detection = '../../data/preprocessed_data.csv'\n",
    "df_detection = pd.read_csv(file_path_detection, delimiter=',')\n",
    "df_detection['DateTime'] = pd.to_datetime(df_detection['DateTime'], errors='coerce')\n",
    "df_detection.set_index('DateTime', inplace=True)\n",
    "\n",
    "# List of columns to drop (replace with your actual column names)\n",
    "#columns_to_drop = ['500UZ0009E01.LZI0012A.MEAS', '505D002D01.TI0012.MEAS', '530K001S01.FI0007.MEAS','530R001D01.FIC0029.MEAS']\n",
    "\n",
    "# Drop them from both train and test dataframes\n",
    "#df_detection.drop(columns=columns_to_drop, inplace=True, errors='ignore')\n",
    "\n",
    "# Extract labels column if it exists from detection dataset\n",
    "if 'labels' in df_detection.columns:\n",
    "    print(\"✅ Found 'labels' column in detection dataset. Extracting for later evaluation.\")\n",
    "    labels_detection = df_detection['labels'].copy()\n",
    "    df_detection_train = df_detection.drop(columns=['labels'])\n",
    "else:\n",
    "    print(\"⚠️ No 'labels' column found in detection dataset. Will assume all samples are normal.\")\n",
    "    labels_detection = pd.Series(np.zeros(len(df_detection)))\n",
    "    df_detection_train = df_detection.copy()"
   ]
  },
  {
   "cell_type": "code",
   "execution_count": 4,
   "id": "7ec69b6e",
   "metadata": {},
   "outputs": [
    {
     "data": {
      "text/plain": [
       "(28544, 23)"
      ]
     },
     "execution_count": 4,
     "metadata": {},
     "output_type": "execute_result"
    }
   ],
   "source": [
    "df_detection.shape"
   ]
  },
  {
   "cell_type": "markdown",
   "id": "e1e90b21",
   "metadata": {},
   "source": [
    "### LOAD AND PREPROCESS TEST SET"
   ]
  },
  {
   "cell_type": "code",
   "execution_count": 5,
   "id": "f9a62f2e-d8f6-47e5-bb41-8b70dec3756f",
   "metadata": {},
   "outputs": [],
   "source": [
    "# # Load the test set from CSV\n",
    "# test_set_path = '../detection_datasets/labeled_test_set_with_predictions.csv'\n",
    "# df_test = pd.read_csv(test_set_path, delimiter=',')\n",
    "# df_test['DateTime'] = pd.to_datetime(df_test['DateTime'], errors='coerce')\n",
    "# df_test.set_index('DateTime', inplace=True)\n",
    "# print(f\"✅ Loaded test set with {len(df_test)} samples from {test_set_path}\")\n",
    "\n",
    "# # Extract labels from test set if they exist\n",
    "# if 'labels' in df_test.columns:\n",
    "#     print(\"✅ Found 'labels' column in test set.\")\n",
    "#     all_test_labels = df_test['labels'].copy()\n",
    "#     df_test_features = df_test.drop(columns=['labels'])\n",
    "# else:\n",
    "#     print(\"⚠️ No 'labels' column found in test set. Will assume all samples are normal.\")\n",
    "#     all_test_labels = pd.Series(np.zeros(len(df_test)))\n",
    "#     df_test_features = df_test.copy()"
   ]
  },
  {
   "cell_type": "code",
   "execution_count": 6,
   "id": "8fed0147-3593-4419-9e96-0b1631c6e935",
   "metadata": {},
   "outputs": [],
   "source": [
    "scaler_detection = MinMaxScaler()"
   ]
  },
  {
   "cell_type": "markdown",
   "id": "5acf54b4",
   "metadata": {},
   "source": [
    "### NORMALIZE DATA"
   ]
  },
  {
   "cell_type": "code",
   "execution_count": 7,
   "id": "8b4c8a1a-710d-46cb-a31b-af3027743ad9",
   "metadata": {},
   "outputs": [],
   "source": [
    "df_detection_train = df_detection_train[200:]"
   ]
  },
  {
   "cell_type": "code",
   "execution_count": 8,
   "id": "a315468b",
   "metadata": {},
   "outputs": [
    {
     "name": "stdout",
     "output_type": "stream",
     "text": [
      "✅ Scaled detection dataset shape: (28344, 22)\n"
     ]
    }
   ],
   "source": [
    "# Normalize detection dataset\n",
    "scaled_data_detection = scaler_detection.fit_transform(df_detection_train.values)\n",
    "df_detection_scaled = pd.DataFrame(scaled_data_detection, index=df_detection_train.index, \n",
    "                                  columns=df_detection_train.columns).astype(np.float32)\n",
    "\n",
    "joblib.dump(scaler_detection, \"detection_scaler.pkl\")\n",
    "                                  \n",
    "print(f\"✅ Scaled detection dataset shape: {df_detection_scaled.shape}\")"
   ]
  },
  {
   "cell_type": "markdown",
   "id": "c59ab5f0",
   "metadata": {},
   "source": [
    "### CONFIGURATION"
   ]
  },
  {
   "cell_type": "code",
   "execution_count": 9,
   "id": "2afb33aa",
   "metadata": {},
   "outputs": [],
   "source": [
    "INPUT_STEPS = 32\n",
    "TEST_RATIO = 0  # For validation split during training\n",
    "TEST_SIZE_POURCENTAGE = 1\n",
    "# Tuning parameters\n",
    "EPOCHS_LIST = [20]\n",
    "BATCH_SIZES = [32]\n",
    "UNITS_LIST= [256]\n",
    "# Transformer parameters for anomaly detection\n",
    "DROPOUT_RATE = 0.1\n",
    "SEED = 42\n",
    "np.random.seed(SEED)\n",
    "tf.random.set_seed(SEED)"
   ]
  },
  {
   "cell_type": "markdown",
   "id": "1394d096",
   "metadata": {},
   "source": [
    "### SEQUENTIAL TRAIN/TEST SPLIT FOR MODEL EVALUATION"
   ]
  },
  {
   "cell_type": "code",
   "execution_count": 10,
   "id": "138bba5b-9337-44f2-bb47-0b0f8460c702",
   "metadata": {},
   "outputs": [],
   "source": [
    "# Split for detection model\n",
    "split_idx_detection = int((1 - TEST_RATIO) * len(df_detection_scaled))\n",
    "train_data_detection = df_detection_scaled.iloc[:split_idx_detection]"
   ]
  },
  {
   "cell_type": "markdown",
   "id": "f55d7f4d",
   "metadata": {},
   "source": [
    "### CREATE SEQUENCES"
   ]
  },
  {
   "cell_type": "code",
   "execution_count": 11,
   "id": "d6b165cb-92a9-4ae2-9db8-5f045866237e",
   "metadata": {},
   "outputs": [],
   "source": [
    "def create_sequences(data, input_steps):\n",
    "    X = []\n",
    "    i = 0\n",
    "    while i + input_steps <= len(data):\n",
    "        X.append(data[i:i+input_steps])\n",
    "        i += input_steps  # advance by input_steps to avoid overlap\n",
    "    return np.array(X, dtype=np.float32)"
   ]
  },
  {
   "cell_type": "markdown",
   "id": "9a8e97b1",
   "metadata": {},
   "source": [
    "### BUILD AND TRAIN LSTM AUTOENCODER"
   ]
  },
  {
   "cell_type": "code",
   "execution_count": 12,
   "id": "94b9583c-bce6-4849-a200-5d911ae0bb45",
   "metadata": {},
   "outputs": [],
   "source": [
    "#def create_ae_sequences(data, seq_len):\n",
    "#    return np.array([data[i:i+seq_len] for i in range(len(data) - seq_len)], dtype=np.float32)\n",
    "\n",
    "def create_ae_sequences(data, input_steps):\n",
    "    X = []\n",
    "    i = 0\n",
    "    while i + input_steps <= len(data):\n",
    "        X.append(data[i:i+input_steps])\n",
    "        i += input_steps  # advance by input_steps to avoid overlap\n",
    "    return np.array(X, dtype=np.float32)\n",
    "    \n",
    "X_ae_train = create_ae_sequences(train_data_detection.values, INPUT_STEPS)\n",
    "\n",
    "def build_lstm_autoencoder2(input_steps, input_dim, units):\n",
    "    inp = Input(shape=(input_steps, input_dim))\n",
    "    \n",
    "    # Stacked encoder: richer context + bottleneck\n",
    "    x = LSTM(units, return_sequences=True)(inp)\n",
    "    \n",
    "    x = Bidirectional(LSTM(units))(x)  # bottleneck (return_sequences=False)\n",
    "\n",
    "    # Decoder\n",
    "    x = RepeatVector(input_steps)(x)\n",
    "    x = LSTM(units, return_sequences=True)(x)\n",
    "    out = TimeDistributed(Dense(input_dim))(x)\n",
    "\n",
    "    model = Model(inp, out)\n",
    "    model.compile(optimizer='adam', loss='mse')\n",
    "    return model"
   ]
  },
  {
   "cell_type": "code",
   "execution_count": 13,
   "id": "5691a163-0d0d-4574-a488-997996b6d722",
   "metadata": {},
   "outputs": [],
   "source": [
    "def build_lstm_autoencoder3(input_steps, input_dim, units):\n",
    "    inp = Input(shape=(input_steps, input_dim))\n",
    "\n",
    "    # 1. Encoder: LSTM unidirectionnel + BiLSTM (bottleneck)\n",
    "    x = LSTM(units, return_sequences=True)(inp)\n",
    "\n",
    "    # BiLSTM with return_sequences=False to produce final states\n",
    "    encoder_bilstm = Bidirectional(LSTM(units, return_sequences=False, return_state=True))\n",
    "    context_vector, forward_h, forward_c, backward_h, backward_c = encoder_bilstm(x)\n",
    "\n",
    "    # 2. Decoder\n",
    "    decoder_input = RepeatVector(input_steps)(context_vector)  # shape: (batch, input_steps, units*2)\n",
    "    decoder_lstm = LSTM(units * 2, return_sequences=True)\n",
    "    decoder_output = decoder_lstm(decoder_input,\n",
    "                              initial_state=[\n",
    "                                  Concatenate()([forward_h, backward_h]),\n",
    "                                  Concatenate()([forward_c, backward_c])\n",
    "                              ])\n",
    "    decoder_output_normalized = LayerNormalization()(decoder_output)\n",
    "    output = TimeDistributed(Dense(input_dim))(decoder_output_normalized)\n",
    "\n",
    "\n",
    "    model = Model(inp, output)\n",
    "    model.compile(optimizer='adam', loss='mse')\n",
    "    return model"
   ]
  },
  {
   "cell_type": "code",
   "execution_count": 14,
   "id": "5c867509-51ed-4733-a77f-8ae575e23854",
   "metadata": {},
   "outputs": [],
   "source": [
    "def build_lstm_autoencoder(input_steps, input_dim, units=128):\n",
    "    encoder_inputs = Input(shape=(input_steps, input_dim))\n",
    "    encoder_outputs, forward_h, forward_c, backward_h, backward_c = Bidirectional(\n",
    "        LSTM(units, return_sequences=True, return_state=True)\n",
    "    )(encoder_inputs)\n",
    "\n",
    "    # Use average encoder output as decoder input context\n",
    "    context_vector = tf.reduce_mean(encoder_outputs, axis=1)\n",
    "    decoder_inputs = RepeatVector(input_steps)(context_vector)\n",
    "\n",
    "    decoder_lstm = LSTM(units * 2, return_sequences=True)\n",
    "    decoder_outputs = decoder_lstm(decoder_inputs,\n",
    "                                   initial_state=[Concatenate()([forward_h, backward_h]),\n",
    "                                                  Concatenate()([forward_c, backward_c])])\n",
    "\n",
    "    #attention = MultiHeadAttention(num_heads=4, key_dim=units)\n",
    "    #attention_output = attention(query=decoder_outputs, value=encoder_outputs, key=encoder_outputs)\n",
    "\n",
    "    #combined = Concatenate()([decoder_outputs, attention_output])\n",
    "    combined = LayerNormalization()(decoder_outputs)\n",
    "\n",
    "    output = TimeDistributed(Dense(input_dim))(combined)\n",
    "\n",
    "    model = Model(inputs=encoder_inputs, outputs=output)\n",
    "    model.compile(optimizer='adam', loss='mse')  # plain MSE for now\n",
    "    return model"
   ]
  },
  {
   "cell_type": "markdown",
   "id": "91badbdd",
   "metadata": {},
   "source": [
    "### TRAINING/TUNING"
   ]
  },
  {
   "cell_type": "code",
   "execution_count": 25,
   "id": "bc040998",
   "metadata": {},
   "outputs": [
    {
     "name": "stdout",
     "output_type": "stream",
     "text": [
      "\n",
      "🔵 Training model with epochs=20, batch_size=32\n",
      "Epoch 1/20\n",
      "25/25 [==============================] - 19s 217ms/step - loss: 1.6351 - val_loss: 0.0879\n",
      "Epoch 2/20\n",
      "25/25 [==============================] - 2s 77ms/step - loss: 0.0399 - val_loss: 0.0139\n",
      "Epoch 3/20\n",
      "25/25 [==============================] - 2s 74ms/step - loss: 0.0185 - val_loss: 0.0108\n",
      "Epoch 4/20\n",
      "25/25 [==============================] - 2s 76ms/step - loss: 0.0164 - val_loss: 0.0091\n",
      "Epoch 5/20\n",
      "25/25 [==============================] - 2s 76ms/step - loss: 0.0157 - val_loss: 0.0082\n",
      "Epoch 6/20\n",
      "25/25 [==============================] - 2s 76ms/step - loss: 0.0155 - val_loss: 0.0075\n",
      "Epoch 7/20\n",
      "25/25 [==============================] - 2s 76ms/step - loss: 0.0156 - val_loss: 0.0071\n",
      "Epoch 8/20\n",
      "25/25 [==============================] - 2s 76ms/step - loss: 0.0156 - val_loss: 0.0068\n",
      "Epoch 9/20\n",
      "25/25 [==============================] - 2s 79ms/step - loss: 0.0153 - val_loss: 0.0066\n",
      "Epoch 10/20\n",
      "25/25 [==============================] - 2s 78ms/step - loss: 0.0148 - val_loss: 0.0065\n",
      "Epoch 11/20\n",
      "25/25 [==============================] - 2s 75ms/step - loss: 0.0142 - val_loss: 0.0063\n",
      "Epoch 12/20\n",
      "25/25 [==============================] - 2s 77ms/step - loss: 0.0136 - val_loss: 0.0063\n",
      "Epoch 13/20\n",
      "25/25 [==============================] - 2s 74ms/step - loss: 0.0132 - val_loss: 0.0064\n",
      "Epoch 14/20\n",
      "25/25 [==============================] - 2s 75ms/step - loss: 0.0129 - val_loss: 0.0066\n",
      "Epoch 15/20\n",
      "25/25 [==============================] - 2s 74ms/step - loss: 0.0127 - val_loss: 0.0068\n",
      "Epoch 16/20\n",
      "25/25 [==============================] - 2s 76ms/step - loss: 0.0123 - val_loss: 0.0066\n",
      "Epoch 17/20\n",
      "25/25 [==============================] - 2s 78ms/step - loss: 0.0120 - val_loss: 0.0062\n",
      "Epoch 18/20\n",
      "25/25 [==============================] - 2s 76ms/step - loss: 0.0124 - val_loss: 0.0060\n",
      "Epoch 19/20\n",
      "25/25 [==============================] - 2s 71ms/step - loss: 0.0137 - val_loss: 0.0062\n",
      "Epoch 20/20\n",
      "25/25 [==============================] - 2s 74ms/step - loss: 0.0143 - val_loss: 0.0061\n",
      "\n",
      "✅ LSTM Autoencoder trained and saved.\n",
      "\n",
      "📋 Tuning Results Summary:\n",
      "   epochs  batch_size  LSTM-units  val_loss\n",
      "0      20          32         256  0.005957\n"
     ]
    }
   ],
   "source": [
    "history_records = []\n",
    "best_model = None\n",
    "best_val_loss = np.inf\n",
    "best_history = None\n",
    "\n",
    "for epochs in EPOCHS_LIST:\n",
    "    for batch_size in BATCH_SIZES:\n",
    "        for units in UNITS_LIST:\n",
    "            print(f\"\\n🔵 Training model with epochs={epochs}, batch_size={batch_size}\")\n",
    "            \n",
    "            lstm_ae = build_lstm_autoencoder(INPUT_STEPS, X_ae_train.shape[2], units)\n",
    "\n",
    "            # Train LSTM AE\n",
    "            es = EarlyStopping(patience=10, restore_best_weights=True)\n",
    "            history = lstm_ae.fit(X_ae_train, X_ae_train, validation_split=0.2, epochs=epochs, batch_size=batch_size, callbacks=[es], verbose=1,shuffle=False)\n",
    "            \n",
    "            val_loss = min(history.history['val_loss'])\n",
    "\n",
    "            history_records.append({\n",
    "                \"epochs\": epochs,\n",
    "                \"batch_size\": batch_size,\n",
    "                \"LSTM-units\": units,\n",
    "                \"val_loss\": val_loss\n",
    "            })\n",
    "\n",
    "            if val_loss < best_val_loss:\n",
    "                best_val_loss = val_loss\n",
    "                best_model = lstm_ae  # ✅ ici c’est correct\n",
    "                best_history = history\n",
    "\n",
    "best_model.save(\"best_lstm_autoencoder.h5\")\n",
    "print(\"\\n✅ LSTM Autoencoder trained and saved.\")\n",
    "\n",
    "# Save tuning history\n",
    "history_df = pd.DataFrame(history_records)\n",
    "history_df.to_csv(\"lstm_ae_tuning_history.csv\", index=False)\n",
    "print(\"\\n📋 Tuning Results Summary:\")\n",
    "print(history_df)"
   ]
  },
  {
   "cell_type": "code",
   "execution_count": 16,
   "id": "83340e9c",
   "metadata": {},
   "outputs": [
    {
     "data": {
      "text/plain": [
       "(885, 32, 22)"
      ]
     },
     "execution_count": 16,
     "metadata": {},
     "output_type": "execute_result"
    }
   ],
   "source": [
    "X_ae_train.shape"
   ]
  },
  {
   "cell_type": "code",
   "execution_count": 17,
   "id": "36212cbb-d451-40a1-acd1-678355862daf",
   "metadata": {},
   "outputs": [
    {
     "name": "stdout",
     "output_type": "stream",
     "text": [
      "28/28 [==============================] - 4s 27ms/step\n",
      "Threshold (P93): 0.0029\n"
     ]
    }
   ],
   "source": [
    "# 1. Get reconstruction errors from training data (assumed normal)\n",
    "train_reconstructions = lstm_ae.predict(X_ae_train,batch_size=32, verbose=1)\n",
    "train_errors = np.mean((X_ae_train - train_reconstructions) ** 2, axis=2)  # MSE per sequence\n",
    "# 2. Calculate threshold as high percentile of normal errors\n",
    "THRESHOLD_PERCENTILE = 93  # Start with 99th percentile\n",
    "threshold = np.percentile(train_errors, THRESHOLD_PERCENTILE)\n",
    "\n",
    "print(f\"Threshold (P{THRESHOLD_PERCENTILE}): {threshold:.4f}\")"
   ]
  },
  {
   "cell_type": "code",
   "execution_count": 18,
   "id": "e27718d7",
   "metadata": {},
   "outputs": [],
   "source": [
    "detected_flags = (train_errors > threshold).astype(int)"
   ]
  },
  {
   "cell_type": "code",
   "execution_count": 19,
   "id": "8549db38",
   "metadata": {},
   "outputs": [
    {
     "data": {
      "text/plain": [
       "(885, 32)"
      ]
     },
     "execution_count": 19,
     "metadata": {},
     "output_type": "execute_result"
    }
   ],
   "source": [
    "detected_flags.shape"
   ]
  },
  {
   "cell_type": "code",
   "execution_count": 20,
   "id": "97ffb5c4",
   "metadata": {},
   "outputs": [
    {
     "data": {
      "text/plain": [
       "(885, 32)"
      ]
     },
     "execution_count": 20,
     "metadata": {},
     "output_type": "execute_result"
    }
   ],
   "source": [
    "train_errors.shape"
   ]
  },
  {
   "cell_type": "code",
   "execution_count": 21,
   "id": "515863d0",
   "metadata": {},
   "outputs": [
    {
     "data": {
      "text/plain": [
       "0.002947537861764432"
      ]
     },
     "execution_count": 21,
     "metadata": {},
     "output_type": "execute_result"
    }
   ],
   "source": [
    "threshold"
   ]
  },
  {
   "cell_type": "code",
   "execution_count": 22,
   "id": "db908fae-a2cb-4842-944c-91e6dd992c10",
   "metadata": {},
   "outputs": [
    {
     "data": {
      "text/plain": [
       "(885, 32)"
      ]
     },
     "execution_count": 22,
     "metadata": {},
     "output_type": "execute_result"
    }
   ],
   "source": [
    "train_errors.shape"
   ]
  },
  {
   "cell_type": "code",
   "execution_count": 23,
   "id": "67834018-d4f2-4761-8fab-32e9b515bb46",
   "metadata": {},
   "outputs": [
    {
     "data": {
      "image/png": "[encoded data removed]",
      "text/plain": [
       "<Figure size 1400x500 with 1 Axes>"
      ]
     },
     "metadata": {},
     "output_type": "display_data"
    }
   ],
   "source": [
    "plt.figure(figsize=(14, 5))\n",
    "# Flatten the errors to see temporal progression\n",
    "plt.plot(train_errors.T.flatten(), label='Reconstruction Error')  # Transpose and flatten\n",
    "plt.axhline(threshold, color='red', linestyle='--', label=f'Threshold: {threshold:.5f}')\n",
    "\n",
    "# For anomaly markers, need to calculate positions in flattened array\n",
    "detected_positions = np.where(detected_flags.T.flatten() == 1)[0]\n",
    "plt.scatter(detected_positions, train_errors.T.flatten()[detected_positions], \n",
    "            color='red', label='Detected Anomalies', s=10)\n",
    "\n",
    "plt.title(\"Reconstruction Errors Over Time\", fontsize=14)\n",
    "plt.xlabel(\"Timestep (across all sequences)\")\n",
    "plt.ylabel(\"Reconstruction Error\")\n",
    "plt.legend()\n",
    "plt.grid(True)\n",
    "plt.tight_layout()\n",
    "plt.show()"
   ]
  },
  {
   "cell_type": "code",
   "execution_count": 24,
   "id": "f06f9eea-835e-454e-98d1-04ea3030eacd",
   "metadata": {},
   "outputs": [
    {
     "data": {
      "text/plain": [
       "6274"
      ]
     },
     "execution_count": 24,
     "metadata": {},
     "output_type": "execute_result"
    }
   ],
   "source": [
    "K.clear_session()\n",
    "gc.collect()"
   ]
  }
 ],
 "metadata": {
  "kernelspec": {
   "display_name": "Python 3 (ipykernel)",
   "language": "python",
   "name": "python3"
  },
  "language_info": {
   "codemirror_mode": {
    "name": "ipython",
    "version": 3
   },
   "file_extension": ".py",
   "mimetype": "text/x-python",
   "name": "python",
   "nbconvert_exporter": "python",
   "pygments_lexer": "ipython3",
   "version": "3.9.21"
  }
 },
 "nbformat": 4,
 "nbformat_minor": 5
}
