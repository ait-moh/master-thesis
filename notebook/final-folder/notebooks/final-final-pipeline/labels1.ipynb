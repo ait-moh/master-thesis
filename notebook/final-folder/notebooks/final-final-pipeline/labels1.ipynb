{
 "cells": [
  {
   "cell_type": "code",
   "execution_count": 1,
   "id": "7bb4d61b-9db8-4f7f-b49a-303bf6cdd262",
   "metadata": {},
   "outputs": [],
   "source": [
    "# ========================\n",
    "# 0. IMPORTS\n",
    "# ========================\n",
    "import numpy as np\n",
    "import pandas as pd\n",
    "import matplotlib.pyplot as plt\n",
    "from sklearn.preprocessing import MinMaxScaler\n",
    "from sklearn.model_selection import train_test_split\n",
    "from sklearn.metrics import mean_squared_error, mean_absolute_error, precision_score, recall_score, f1_score, roc_curve, auc\n",
    "import tensorflow as tf\n",
    "from tensorflow.keras.models import Model\n",
    "from tensorflow.keras.layers import (Input, Dense, LSTM, RepeatVector, TimeDistributed,\n",
    "                                    MultiHeadAttention, LayerNormalization, Dropout, GlobalAveragePooling1D,\n",
    "                                    Conv1D)\n",
    "from tensorflow.keras.callbacks import EarlyStopping\n",
    "from tensorflow.keras.optimizers import Adam\n",
    "from tensorflow.python.client import device_lib\n",
    "import os\n",
    "import gc\n",
    "import tensorflow.keras.backend as K\n",
    "import joblib\n",
    "from tensorflow.keras.models import load_model\n",
    "\n",
    "# ========================\n",
    "# 1. CONFIGURATION\n",
    "# ========================\n",
    "INPUT_STEPS = 32\n",
    "TEST_SIZE_POURCENTAGE = 1\n",
    "TEST_RATIO = 0.05\n",
    "\n",
    "SEED = 42\n",
    "np.random.seed(SEED)\n",
    "tf.random.set_seed(SEED)\n"
   ]
  },
  {
   "cell_type": "code",
   "execution_count": 2,
   "id": "ad884dbe-2345-4ccf-873a-314c475db55e",
   "metadata": {},
   "outputs": [
    {
     "name": "stdout",
     "output_type": "stream",
     "text": [
      "✅ GPU is available and will be used.\n"
     ]
    }
   ],
   "source": [
    "\n",
    "# ========================\n",
    "# 2. DEVICE SETUP\n",
    "# ========================\n",
    "gpus = tf.config.list_physical_devices('GPU')\n",
    "if gpus:\n",
    "    try:\n",
    "        for gpu in gpus:\n",
    "            tf.config.experimental.set_memory_growth(gpu, True)\n",
    "        tf.config.set_visible_devices(gpus[0], 'GPU')\n",
    "        print(\"✅ GPU is available and will be used.\")\n",
    "    except RuntimeError as e:\n",
    "        print(e)\n",
    "else:\n",
    "    print(\"⚠️ No GPU detected, running on CPU.\")\n",
    "\n"
   ]
  },
  {
   "cell_type": "code",
   "execution_count": 3,
   "id": "f9a62f2e-d8f6-47e5-bb41-8b70dec3756f",
   "metadata": {},
   "outputs": [
    {
     "name": "stdout",
     "output_type": "stream",
     "text": [
      "✅ Found 'labels' column in test set.\n"
     ]
    }
   ],
   "source": [
    "# ========================\n",
    "# 4. LOAD TEST SET\n",
    "# ========================\n",
    "# Load the test set from CSV\n",
    "test_set_path = '../../../data/preprocessed_data.csv'\n",
    "df_test = pd.read_csv(test_set_path, delimiter=',')\n",
    "df_test['DateTime'] = pd.to_datetime(df_test['DateTime'], errors='coerce')\n",
    "df_test.set_index('DateTime', inplace=True)\n",
    "\n",
    "# List of columns to drop (replace with your actual column names)\n",
    "columns_to_drop = ['500UZ0009E01.LZI0012A.MEAS', '505D002D01.TI0012.MEAS', '530K001S01.FI0007.MEAS','530R001D01.FIC0029.MEAS']\n",
    "\n",
    "# Drop them from both train and test dataframes\n",
    "df_test.drop(columns=columns_to_drop, inplace=True, errors='ignore')\n",
    "# Calculate number of rows to remove (0.05% of total length)\n",
    "#n_rows_to_remove = int(len(df_test) * 0.05)\n",
    "\n",
    "# Remove the last n_rows_to_remove rows\n",
    "#df_test = df_test.iloc[:-n_rows_to_remove-1]\n",
    "\n",
    "# Verify the new length\n",
    "#print(f\"Original length: {len(df_test) + n_rows_to_remove}\")\n",
    "#print(f\"New length: {len(df_test)}\")\n",
    "#print(f\"Removed {n_rows_to_remove} rows (5%)\")\n",
    "#print(f\"✅ Loaded test set with {len(df_test)} samples from {test_set_path}\")\n",
    "\n",
    "# Extract labels from test set if they exist\n",
    "if 'labels' in df_test.columns:\n",
    "    print(\"✅ Found 'labels' column in test set.\")\n",
    "    all_test_labels = df_test['labels'].copy()\n",
    "    df_test_features = df_test.drop(columns=['labels'])\n",
    "else:\n",
    "    print(\"⚠️ No 'labels' column found in test set. Will assume all samples are normal.\")\n",
    "    all_test_labels = pd.Series(np.zeros(len(df_test)))\n",
    "    df_test_features = df_test.copy()"
   ]
  },
  {
   "cell_type": "code",
   "execution_count": 4,
   "id": "8e01a9d8-574d-4c17-80fa-13e20a13b763",
   "metadata": {},
   "outputs": [
    {
     "name": "stdout",
     "output_type": "stream",
     "text": [
      "✅ Number of anomalies (labels == 1): 2027\n"
     ]
    }
   ],
   "source": [
    "num_ones = (df_test['labels'] == 1).sum()\n",
    "print(f\"✅ Number of anomalies (labels == 1): {num_ones}\")"
   ]
  },
  {
   "cell_type": "code",
   "execution_count": 5,
   "id": "7c933b44",
   "metadata": {},
   "outputs": [
    {
     "data": {
      "text/plain": [
       "(30103, 23)"
      ]
     },
     "execution_count": 5,
     "metadata": {},
     "output_type": "execute_result"
    }
   ],
   "source": [
    "df_test.shape"
   ]
  },
  {
   "cell_type": "code",
   "execution_count": 6,
   "id": "b71b3e2a-5948-46b3-8fb2-cbe43feefce2",
   "metadata": {},
   "outputs": [
    {
     "name": "stdout",
     "output_type": "stream",
     "text": [
      "✅ Scaled test dataset shape: (30103, 22)\n"
     ]
    }
   ],
   "source": [
    "# ========================\n",
    "# 5. NORMALIZE DATA\n",
    "# ========================\n",
    "# Normalize detection dataset\n",
    "scaler_detection = joblib.load(\"detection_scaler.pkl\")\n",
    "\n",
    "# Normalize test dataset - using the same scaler as detection dataset for consistency\n",
    "scaled_data_test = scaler_detection.transform(df_test_features.values)\n",
    "test_data_scaled = pd.DataFrame(scaled_data_test, index=df_test_features.index, \n",
    "                             columns=df_test_features.columns).astype(np.float32)\n",
    "\n",
    "# joblib.dump(scaler_detection, \"detection_scaler.pkl\")\n",
    "\n",
    "print(f\"✅ Scaled test dataset shape: {test_data_scaled.shape}\")\n",
    "\n"
   ]
  },
  {
   "cell_type": "code",
   "execution_count": 7,
   "id": "d6b165cb-92a9-4ae2-9db8-5f045866237e",
   "metadata": {},
   "outputs": [],
   "source": [
    "# ========================\n",
    "# 5. CREATE SEQUENCES\n",
    "# ========================\n",
    "def create_sequences(data, input_steps):\n",
    "    X = []\n",
    "    i = 0\n",
    "    while i + input_steps <= len(data):\n",
    "        X.append(data[i:i+input_steps])\n",
    "        i += input_steps  # advance by input_steps to avoid overlap\n",
    "    return np.array(X, dtype=np.float32)"
   ]
  },
  {
   "cell_type": "code",
   "execution_count": 55,
   "id": "4bdb1cc1-34c3-4df6-a193-888009480ea1",
   "metadata": {},
   "outputs": [
    {
     "name": "stdout",
     "output_type": "stream",
     "text": [
      "✅ Detection model - Testing samples: 30103\n"
     ]
    }
   ],
   "source": [
    "TEST_SIZE_POURCENTAGE = 1\n",
    "\n",
    "# Split for test set\n",
    "split_idx_test = int(TEST_SIZE_POURCENTAGE * len(test_data_scaled))\n",
    "test_data = test_data_scaled.iloc[:split_idx_test]\n",
    "test_labels = all_test_labels.iloc[:split_idx_test]\n",
    "\n",
    "print(f\"✅ Detection model - Testing samples: {len(test_data)}\")"
   ]
  },
  {
   "cell_type": "code",
   "execution_count": 56,
   "id": "94b9583c-bce6-4849-a200-5d911ae0bb45",
   "metadata": {},
   "outputs": [],
   "source": [
    "# ========================\n",
    "# 8. BUILD AND TRAIN LSTM AUTOENCODER\n",
    "# ========================\n",
    "\n",
    "def create_ae_sequences(data, seq_len):\n",
    "    return np.array([data[i:i+seq_len] for i in range(len(data) - seq_len)], dtype=np.float32)\n",
    "\n",
    "\n",
    "lstm_ae = load_model(\"best_lstm_autoencoder.h5\")"
   ]
  },
  {
   "cell_type": "code",
   "execution_count": 57,
   "id": "19a1e590-75df-4e78-91f4-d8917e6b4d82",
   "metadata": {
    "scrolled": true
   },
   "outputs": [
    {
     "name": "stdout",
     "output_type": "stream",
     "text": [
      "1/1 [==============================] - 4s 4s/step\n",
      "1/1 [==============================] - 0s 80ms/step\n",
      "1/1 [==============================] - 0s 86ms/step\n",
      "1/1 [==============================] - 0s 85ms/step\n",
      "1/1 [==============================] - 0s 88ms/step\n",
      "1/1 [==============================] - 0s 83ms/step\n",
      "1/1 [==============================] - 0s 80ms/step\n",
      "1/1 [==============================] - 0s 86ms/step\n",
      "1/1 [==============================] - 0s 84ms/step\n",
      "1/1 [==============================] - 0s 81ms/step\n",
      "1/1 [==============================] - 0s 82ms/step\n",
      "1/1 [==============================] - 0s 84ms/step\n",
      "1/1 [==============================] - 0s 82ms/step\n",
      "1/1 [==============================] - 0s 85ms/step\n",
      "1/1 [==============================] - 0s 85ms/step\n",
      "1/1 [==============================] - 0s 82ms/step\n",
      "1/1 [==============================] - 0s 76ms/step\n",
      "1/1 [==============================] - 0s 81ms/step\n",
      "1/1 [==============================] - 0s 81ms/step\n",
      "1/1 [==============================] - 0s 78ms/step\n",
      "1/1 [==============================] - 0s 76ms/step\n",
      "1/1 [==============================] - 0s 77ms/step\n",
      "1/1 [==============================] - 0s 79ms/step\n",
      "1/1 [==============================] - 0s 77ms/step\n",
      "1/1 [==============================] - 0s 81ms/step\n",
      "1/1 [==============================] - 0s 78ms/step\n",
      "1/1 [==============================] - 0s 82ms/step\n",
      "1/1 [==============================] - 0s 71ms/step\n",
      "1/1 [==============================] - 0s 78ms/step\n",
      "1/1 [==============================] - 0s 75ms/step\n",
      "1/1 [==============================] - 0s 80ms/step\n",
      "1/1 [==============================] - 0s 83ms/step\n",
      "1/1 [==============================] - 0s 84ms/step\n",
      "1/1 [==============================] - 0s 83ms/step\n",
      "1/1 [==============================] - 0s 79ms/step\n",
      "1/1 [==============================] - 0s 76ms/step\n",
      "1/1 [==============================] - 0s 81ms/step\n",
      "1/1 [==============================] - 0s 88ms/step\n",
      "1/1 [==============================] - 0s 84ms/step\n",
      "1/1 [==============================] - 0s 77ms/step\n",
      "1/1 [==============================] - 0s 75ms/step\n",
      "1/1 [==============================] - 0s 79ms/step\n",
      "1/1 [==============================] - 0s 82ms/step\n",
      "1/1 [==============================] - 0s 83ms/step\n",
      "1/1 [==============================] - 0s 83ms/step\n",
      "\n",
      "✅ Real-time simulation complete.\n"
     ]
    }
   ],
   "source": [
    "# Use the last 3000 points of the test data for simulation\n",
    "test_data_tail = test_data.tail(1442).reset_index(drop=True)\n",
    "test_labels_tail = test_labels.tail(1442).reset_index(drop=True)\n",
    "\n",
    "# test_data_tail = test_data.copy()\n",
    "# test_labels_tail = test_labels.copy()\n",
    "\n",
    "# ========================\n",
    "# 9. REAL-TIME SIMULATION WITH MANUAL THRESHOLD CONTROL\n",
    "# ========================\n",
    "simulation_y = create_sequences(test_data_tail.values, INPUT_STEPS)\n",
    "# Create corresponding labels for evaluation\n",
    "\n",
    "#\n",
    "forecast_list = []\n",
    "#reconstruction_list = []\n",
    "reconstruction_errors = []\n",
    "#true_windows = []\n",
    "\n",
    "# Process each non-overlapping sequence individually\n",
    "for i in range(len(simulation_y)):\n",
    "    window_y_true = simulation_y[i]  # shape (INPUT_STEPS, features)\n",
    "    input_seq = np.expand_dims(window_y_true, axis=0)  # shape (1, INPUT_STEPS, features)\n",
    "    \n",
    "    # Skip empty or malformed input\n",
    "    if input_seq.shape[1] == 0:\n",
    "        continue\n",
    "\n",
    "    \n",
    "    # Reconstruct using LSTM autoencoder\n",
    "    y_reconstructed = lstm_ae.predict(input_seq, batch_size=32, verbose=1)[0]  # shape (INPUT_STEPS, features)\n",
    "    \n",
    "    # Calculate per-timestep reconstruction error\n",
    "    timestep_errors = np.mean((window_y_true - y_reconstructed) ** 2, axis=1)  # shape (INPUT_STEPS,)\n",
    "    \n",
    "    reconstruction_errors.append(timestep_errors)\n",
    "\n",
    "print(\"\\n✅ Real-time simulation complete.\")"
   ]
  },
  {
   "cell_type": "code",
   "execution_count": 11,
   "id": "2bcd0d80",
   "metadata": {},
   "outputs": [
    {
     "data": {
      "text/plain": [
       "(32,)"
      ]
     },
     "execution_count": 11,
     "metadata": {},
     "output_type": "execute_result"
    }
   ],
   "source": [
    "timestep_errors.shape"
   ]
  },
  {
   "cell_type": "code",
   "execution_count": 58,
   "id": "d223b3dd-0d11-4406-9bb2-848bd13fc13a",
   "metadata": {},
   "outputs": [
    {
     "name": "stdout",
     "output_type": "stream",
     "text": [
      "\n",
      "✅ Using 100th percentile threshold: 0.03397\n"
     ]
    }
   ],
   "source": [
    "MANUAL_THRESHOLD=None\n",
    "MANUAL_PERCENTILE=100\n",
    "# Flatten the reconstruction errors list for threshold calculation\n",
    "all_reconstruction_errors = np.concatenate(reconstruction_errors)\n",
    "\n",
    "# Make sure we're only considering windows where we have both predictions and labels\n",
    "min_length = min(len(test_labels_tail), len(all_reconstruction_errors))\n",
    "true_labels_subset = test_labels_tail[:min_length]\n",
    "errors_subset = all_reconstruction_errors[:min_length]\n",
    "\n",
    "# Determine threshold to use\n",
    "if MANUAL_THRESHOLD is not None:\n",
    "    # Use manually specified threshold\n",
    "    threshold = MANUAL_THRESHOLD\n",
    "    print(f\"\\n✅ Using manually specified threshold: {threshold:.5f}\")\n",
    "else:\n",
    "    # Use percentile-based threshold\n",
    "    threshold = np.percentile(all_reconstruction_errors, MANUAL_PERCENTILE)\n",
    "    print(f\"\\n✅ Using {MANUAL_PERCENTILE}th percentile threshold: {threshold:.5f}\")\n",
    "\n",
    "\n",
    "all_detected = (np.array(all_reconstruction_errors) > threshold).astype(np.int32)\n",
    "\n",
    "# Apply threshold to get anomaly flags\n",
    "#anomaly_flags_list = [errors > threshold for errors in reconstruction_errors]\n",
    "#all_detected = np.concatenate([flags for flags in anomaly_flags_list])"
   ]
  },
  {
   "cell_type": "code",
   "execution_count": 13,
   "id": "f2e91c3e",
   "metadata": {},
   "outputs": [
    {
     "data": {
      "text/plain": [
       "0.06917796283960342"
      ]
     },
     "execution_count": 13,
     "metadata": {},
     "output_type": "execute_result"
    }
   ],
   "source": [
    "threshold "
   ]
  },
  {
   "cell_type": "code",
   "execution_count": 14,
   "id": "a7d4a09a",
   "metadata": {},
   "outputs": [
    {
     "data": {
      "text/plain": [
       "(1440,)"
      ]
     },
     "execution_count": 14,
     "metadata": {},
     "output_type": "execute_result"
    }
   ],
   "source": [
    "all_reconstruction_errors.shape"
   ]
  },
  {
   "cell_type": "code",
   "execution_count": 59,
   "id": "6d719d5c-2dac-4af5-bc7b-1e75fb65a4ae",
   "metadata": {},
   "outputs": [
    {
     "name": "stdout",
     "output_type": "stream",
     "text": [
      "\n",
      "Anomaly detection summary:\n",
      "Number of true anomalies: 79\n",
      "Number of detected anomalies: 0\n",
      "\n",
      "📈 Anomaly Detection Evaluation:\n",
      "Precision: 0.00000\n",
      "Recall:    0.00000\n",
      "F1 Score:  0.00000\n"
     ]
    }
   ],
   "source": [
    "# Make sure we're only considering windows where we have both predictions and labels\n",
    "min_length = min(len(true_labels_subset), len(all_detected))\n",
    "true_labels_subset = true_labels_subset[:min_length]\n",
    "all_detected_subset = all_detected[:min_length]\n",
    "\n",
    "# Print summary of anomalies\n",
    "print(f\"\\nAnomaly detection summary:\")\n",
    "print(f\"Number of true anomalies: {np.sum(true_labels_subset)}\")\n",
    "print(f\"Number of detected anomalies: {np.sum(all_detected_subset)}\")\n",
    "\n",
    "# Compute metrics\n",
    "precision = precision_score(true_labels_subset, all_detected_subset, zero_division=0)\n",
    "recall = recall_score(true_labels_subset, all_detected_subset, zero_division=0)\n",
    "f1 = f1_score(true_labels_subset, all_detected_subset, zero_division=0)\n",
    "\n",
    "print(f\"\\n📈 Anomaly Detection Evaluation:\")\n",
    "print(f\"Precision: {precision:.5f}\")\n",
    "print(f\"Recall:    {recall:.5f}\")\n",
    "print(f\"F1 Score:  {f1:.5f}\")"
   ]
  },
  {
   "cell_type": "code",
   "execution_count": 16,
   "id": "31c96b51",
   "metadata": {},
   "outputs": [
    {
     "data": {
      "text/plain": [
       "(1440,)"
      ]
     },
     "execution_count": 16,
     "metadata": {},
     "output_type": "execute_result"
    }
   ],
   "source": [
    "all_detected.shape"
   ]
  },
  {
   "cell_type": "code",
   "execution_count": 17,
   "id": "0e49db40-3603-4d23-89de-d5424f4428b4",
   "metadata": {},
   "outputs": [
    {
     "data": {
      "text/plain": [
       "(1440,)"
      ]
     },
     "execution_count": 17,
     "metadata": {},
     "output_type": "execute_result"
    }
   ],
   "source": [
    "true_labels_subset.shape"
   ]
  },
  {
   "cell_type": "code",
   "execution_count": 18,
   "id": "25176748-31e5-43bb-ba2e-b622756e11e8",
   "metadata": {},
   "outputs": [
    {
     "name": "stdout",
     "output_type": "stream",
     "text": [
      "Number of ones: 0\n"
     ]
    }
   ],
   "source": [
    "num_ones = np.sum(all_detected == 1)\n",
    "print(\"Number of ones:\", num_ones)"
   ]
  },
  {
   "cell_type": "code",
   "execution_count": 19,
   "id": "aeec5471-e4a8-4e15-8706-d42f323116a2",
   "metadata": {},
   "outputs": [
    {
     "name": "stdout",
     "output_type": "stream",
     "text": [
      "Number of ones: 92\n"
     ]
    }
   ],
   "source": [
    "num_ones = np.sum(true_labels_subset == 1)\n",
    "print(\"Number of ones:\", num_ones)"
   ]
  },
  {
   "cell_type": "code",
   "execution_count": 60,
   "id": "c49e387d-9104-410f-b0d7-1bd7e3cb71d0",
   "metadata": {},
   "outputs": [
    {
     "data": {
      "image/png": "[encoded data removed]",
      "text/plain": [
       "<Figure size 1400x500 with 1 Axes>"
      ]
     },
     "metadata": {},
     "output_type": "display_data"
    },
    {
     "name": "stdout",
     "output_type": "stream",
     "text": [
      "\n",
      "✅ Analysis complete.\n",
      "\n",
      "To change the threshold:\n",
      "1. Set MANUAL_THRESHOLD to a specific value to use that exact threshold\n",
      "2. Set MANUAL_PERCENTILE to use a percentile-based threshold (current: 100th)\n",
      "3. Re-run the script to see results with the new threshold\n"
     ]
    }
   ],
   "source": [
    "# ========================\n",
    "# 10. PLOT RESULTS\n",
    "# ========================\n",
    "# Plot Reconstruction Errors with True Labels\n",
    "plt.figure(figsize=(14,5))\n",
    "\n",
    "# Ensure we're only plotting up to the minimum length we have data for\n",
    "min_plot_len = min(len(all_reconstruction_errors), len(true_labels_subset))\n",
    "plot_errors = all_reconstruction_errors[:min_plot_len]\n",
    "plot_labels = true_labels_subset[:min_plot_len]\n",
    "plot_detected = all_detected_subset[:min_plot_len]\n",
    "\n",
    "plt.plot(plot_errors, label='Reconstruction Error')\n",
    "plt.axhline(threshold, color='red', linestyle='--', label=f'Threshold: {threshold:.5f}')\n",
    "\n",
    "# Detected anomalies\n",
    "detected_indices = np.where(plot_detected == 1)[0]\n",
    "plt.scatter(detected_indices,\n",
    "            plot_errors[detected_indices],\n",
    "            color='red', label='Detected Anomalies', s=10)\n",
    "\n",
    "# True anomalies\n",
    "true_anomaly_indices = np.where(plot_labels == 1)[0]\n",
    "if len(true_anomaly_indices) > 0:\n",
    "    plt.scatter(true_anomaly_indices,\n",
    "                np.ones_like(true_anomaly_indices) * np.max(plot_errors)*0.9,\n",
    "                color='green', marker='*', label='True Anomalies', s=20)\n",
    "else:\n",
    "    print(\"No true anomalies found in the subset of data being visualized\")\n",
    "\n",
    "plt.title(\"Reconstruction Errors vs True Anomalies, lstm autoencoder\")\n",
    "plt.xlabel(\"Sample Index\")\n",
    "plt.ylabel(\"Error\")\n",
    "plt.legend()\n",
    "plt.grid(True)\n",
    "plt.tight_layout()\n",
    "plt.savefig(\"reconstruction_errors_with_threshold.png\")\n",
    "plt.show()\n",
    "\n",
    "print(\"\\n✅ Analysis complete.\")\n",
    "print(\"\\nTo change the threshold:\")\n",
    "print(\"1. Set MANUAL_THRESHOLD to a specific value to use that exact threshold\")\n",
    "print(\"2. Set MANUAL_PERCENTILE to use a percentile-based threshold (current: {}th)\".format(MANUAL_PERCENTILE))\n",
    "print(\"3. Re-run the script to see results with the new threshold\")"
   ]
  },
  {
   "cell_type": "code",
   "execution_count": 61,
   "id": "75c323e1-2b53-483a-9b30-8890bd8b0e31",
   "metadata": {},
   "outputs": [],
   "source": [
    "df_test_copy = df_test.copy()\n",
    "\n",
    "df_test_copy = df_test_copy.iloc[:split_idx_test]\n",
    "original_test_labeled = df_test_copy.tail(1442)"
   ]
  },
  {
   "cell_type": "code",
   "execution_count": 36,
   "id": "e1f9e92e-499f-46c2-8e6c-5f06ab15822a",
   "metadata": {},
   "outputs": [
    {
     "data": {
      "text/plain": [
       "(1442, 23)"
      ]
     },
     "execution_count": 36,
     "metadata": {},
     "output_type": "execute_result"
    }
   ],
   "source": [
    "original_test_labeled.shape"
   ]
  },
  {
   "cell_type": "code",
   "execution_count": 37,
   "id": "fa714de3",
   "metadata": {},
   "outputs": [
    {
     "data": {
      "text/plain": [
       "(1440,)"
      ]
     },
     "execution_count": 37,
     "metadata": {},
     "output_type": "execute_result"
    }
   ],
   "source": [
    "all_detected_subset.shape"
   ]
  },
  {
   "cell_type": "code",
   "execution_count": 62,
   "id": "d6c09275",
   "metadata": {},
   "outputs": [],
   "source": [
    "original_test_labeled = original_test_labeled[:1440]"
   ]
  },
  {
   "cell_type": "code",
   "execution_count": 25,
   "id": "e3faee05",
   "metadata": {},
   "outputs": [
    {
     "data": {
      "text/plain": [
       "(1440, 23)"
      ]
     },
     "execution_count": 25,
     "metadata": {},
     "output_type": "execute_result"
    }
   ],
   "source": [
    "original_test_labeled.shape"
   ]
  },
  {
   "cell_type": "code",
   "execution_count": 63,
   "id": "9bfd0b93-df3c-4719-8f11-098d84384190",
   "metadata": {},
   "outputs": [],
   "source": [
    "original_test_labeled = original_test_labeled.copy()  # Optional, avoids SettingWithCopyWarning\n",
    "original_test_labeled['labels'] = 0\n",
    "original_test_labeled['labels'] = all_detected_subset  # force value assignment"
   ]
  },
  {
   "cell_type": "code",
   "execution_count": 64,
   "id": "218d8a89-e437-48ff-8341-ed6e96a0fc0c",
   "metadata": {},
   "outputs": [
    {
     "name": "stdout",
     "output_type": "stream",
     "text": [
      "Number of ones: 0\n"
     ]
    }
   ],
   "source": [
    "num_ones = np.sum(original_test_labeled['labels'] == 1)\n",
    "print(\"Number of ones:\", num_ones)"
   ]
  },
  {
   "cell_type": "code",
   "execution_count": 40,
   "id": "5f82f47d-e03c-4a1d-a265-9e1a95994310",
   "metadata": {},
   "outputs": [],
   "source": [
    "# Define the attribute of interest\n",
    "attribute  = \"530R002D02.TI0037.MEAS\"\n",
    "attribute2 = \"530M105D01.TIC0022.MEAS\"\n",
    "# Calculate the 10th and 90th percentile thresholds\n",
    "lower_bound = 680\n",
    "upper_bound = 730"
   ]
  },
  {
   "cell_type": "code",
   "execution_count": 65,
   "id": "a5d562b8-eb4b-4008-8c8d-87a14cdbaf54",
   "metadata": {},
   "outputs": [],
   "source": [
    "# Step 2: Add attribute-based anomalies without removing model detections\n",
    "original_test_labeled.loc[\n",
    "    (original_test_labeled[attribute] > upper_bound),\n",
    "    'labels'\n",
    "] = 1"
   ]
  },
  {
   "cell_type": "code",
   "execution_count": 30,
   "id": "8403f302-a460-4da1-beb9-a8aa78df52b3",
   "metadata": {},
   "outputs": [],
   "source": [
    "# Step 2: Add attribute-based anomalies without removing model detections\n",
    "original_test_labeled.loc[\n",
    "    (original_test_labeled[attribute2] < lower_bound) |\n",
    "    (original_test_labeled[attribute] > upper_bound),\n",
    "    'labels'\n",
    "] = 1\n"
   ]
  },
  {
   "cell_type": "code",
   "execution_count": 66,
   "id": "17165e0f-129d-4685-971d-5c54110ffaa7",
   "metadata": {},
   "outputs": [
    {
     "name": "stdout",
     "output_type": "stream",
     "text": [
      "Number of ones: 53\n"
     ]
    }
   ],
   "source": [
    "num_ones = np.sum(original_test_labeled['labels'] == 1)\n",
    "print(\"Number of ones:\", num_ones)"
   ]
  },
  {
   "cell_type": "code",
   "execution_count": 67,
   "id": "dc3f8256",
   "metadata": {},
   "outputs": [],
   "source": [
    "original_test_labeled_final = original_test_labeled[0:1440]"
   ]
  },
  {
   "cell_type": "code",
   "execution_count": 68,
   "id": "22da007f-1788-48b7-9968-f69d510fd741",
   "metadata": {},
   "outputs": [
    {
     "name": "stdout",
     "output_type": "stream",
     "text": [
      "\n",
      "✅ Original test set labeled and saved as 'labeled_test_set_with_predictions.csv'\n"
     ]
    }
   ],
   "source": [
    "# Save with index\n",
    "original_test_labeled_final.to_csv(\"labeled_test_set_with_predictions.csv\", index=True)\n",
    "\n",
    "print(\"\\n✅ Original test set labeled and saved as 'labeled_test_set_with_predictions.csv'\")"
   ]
  },
  {
   "cell_type": "code",
   "execution_count": 69,
   "id": "7586a62f-7899-4b8a-b63b-3b72fb32c6a2",
   "metadata": {},
   "outputs": [
    {
     "name": "stdout",
     "output_type": "stream",
     "text": [
      "Number of ones: 53\n"
     ]
    }
   ],
   "source": [
    "num_ones = np.sum(original_test_labeled_final['labels'] == 1)\n",
    "print(\"Number of ones:\", num_ones)"
   ]
  },
  {
   "cell_type": "code",
   "execution_count": 70,
   "id": "f0714338-a8ce-4397-a550-7b6408c39054",
   "metadata": {},
   "outputs": [
    {
     "data": {
      "text/html": [
       "<div>\n",
       "<style scoped>\n",
       "    .dataframe tbody tr th:only-of-type {\n",
       "        vertical-align: middle;\n",
       "    }\n",
       "\n",
       "    .dataframe tbody tr th {\n",
       "        vertical-align: top;\n",
       "    }\n",
       "\n",
       "    .dataframe thead th {\n",
       "        text-align: right;\n",
       "    }\n",
       "</style>\n",
       "<table border=\"1\" class=\"dataframe\">\n",
       "  <thead>\n",
       "    <tr style=\"text-align: right;\">\n",
       "      <th></th>\n",
       "      <th>520MX051D01.FIC0028.MEAS</th>\n",
       "      <th>520D007D02.TI0058.MEAS</th>\n",
       "      <th>530R001D01.FI0043.MEAS</th>\n",
       "      <th>530E001D01.FIC0015.MEAS</th>\n",
       "      <th>530R001D01.FIC0030.MEAS</th>\n",
       "      <th>530R001D01.FIC0047.MEAS</th>\n",
       "      <th>530C021D01.FIC0203.MEAS</th>\n",
       "      <th>530R001D02.FIC0230.MEAS</th>\n",
       "      <th>530R002D02.LI0010.MEAS</th>\n",
       "      <th>530M102D01.LIC0011.MEAS</th>\n",
       "      <th>...</th>\n",
       "      <th>530R002D02.TI0037.MEAS</th>\n",
       "      <th>530F001D01.TIC0012.MEAS</th>\n",
       "      <th>530M105D01.TIC0022.MEAS</th>\n",
       "      <th>530UZ1099E01.TZI0068A.MEAS</th>\n",
       "      <th>530M103D01.ZI2103A.MEAS</th>\n",
       "      <th>530M104D01.ZI2104A.MEAS</th>\n",
       "      <th>530M105D01.ZI2105A.MEAS</th>\n",
       "      <th>535D005D01.LI0011.MEAS</th>\n",
       "      <th>535INT920D01.TI0046.MEAS</th>\n",
       "      <th>labels</th>\n",
       "    </tr>\n",
       "    <tr>\n",
       "      <th>DateTime</th>\n",
       "      <th></th>\n",
       "      <th></th>\n",
       "      <th></th>\n",
       "      <th></th>\n",
       "      <th></th>\n",
       "      <th></th>\n",
       "      <th></th>\n",
       "      <th></th>\n",
       "      <th></th>\n",
       "      <th></th>\n",
       "      <th></th>\n",
       "      <th></th>\n",
       "      <th></th>\n",
       "      <th></th>\n",
       "      <th></th>\n",
       "      <th></th>\n",
       "      <th></th>\n",
       "      <th></th>\n",
       "      <th></th>\n",
       "      <th></th>\n",
       "      <th></th>\n",
       "    </tr>\n",
       "  </thead>\n",
       "  <tbody>\n",
       "    <tr>\n",
       "      <th>2024-12-03 17:18:00</th>\n",
       "      <td>4.526224</td>\n",
       "      <td>128.748047</td>\n",
       "      <td>2650.876465</td>\n",
       "      <td>1208.079224</td>\n",
       "      <td>2564.053711</td>\n",
       "      <td>309.998505</td>\n",
       "      <td>135.635132</td>\n",
       "      <td>5.495455</td>\n",
       "      <td>47.520363</td>\n",
       "      <td>30.319614</td>\n",
       "      <td>...</td>\n",
       "      <td>723.362488</td>\n",
       "      <td>143.062500</td>\n",
       "      <td>682.204102</td>\n",
       "      <td>158.223450</td>\n",
       "      <td>20.548828</td>\n",
       "      <td>19.347656</td>\n",
       "      <td>60.816406</td>\n",
       "      <td>13.179941</td>\n",
       "      <td>58.453125</td>\n",
       "      <td>0</td>\n",
       "    </tr>\n",
       "    <tr>\n",
       "      <th>2024-12-03 17:21:00</th>\n",
       "      <td>4.526224</td>\n",
       "      <td>128.748047</td>\n",
       "      <td>2647.280273</td>\n",
       "      <td>1205.621704</td>\n",
       "      <td>2558.945312</td>\n",
       "      <td>310.041412</td>\n",
       "      <td>135.638504</td>\n",
       "      <td>5.495455</td>\n",
       "      <td>48.034554</td>\n",
       "      <td>30.020466</td>\n",
       "      <td>...</td>\n",
       "      <td>723.310974</td>\n",
       "      <td>143.140625</td>\n",
       "      <td>682.083984</td>\n",
       "      <td>157.960922</td>\n",
       "      <td>20.285156</td>\n",
       "      <td>19.347656</td>\n",
       "      <td>60.902344</td>\n",
       "      <td>13.179701</td>\n",
       "      <td>58.351562</td>\n",
       "      <td>0</td>\n",
       "    </tr>\n",
       "    <tr>\n",
       "      <th>2024-12-03 17:24:00</th>\n",
       "      <td>4.526224</td>\n",
       "      <td>128.507812</td>\n",
       "      <td>2648.681396</td>\n",
       "      <td>1202.663818</td>\n",
       "      <td>2565.543945</td>\n",
       "      <td>310.122437</td>\n",
       "      <td>135.618988</td>\n",
       "      <td>5.495455</td>\n",
       "      <td>50.629436</td>\n",
       "      <td>30.627666</td>\n",
       "      <td>...</td>\n",
       "      <td>723.310974</td>\n",
       "      <td>143.171875</td>\n",
       "      <td>681.152344</td>\n",
       "      <td>157.960922</td>\n",
       "      <td>20.673828</td>\n",
       "      <td>19.347656</td>\n",
       "      <td>61.302734</td>\n",
       "      <td>13.066221</td>\n",
       "      <td>58.355469</td>\n",
       "      <td>0</td>\n",
       "    </tr>\n",
       "    <tr>\n",
       "      <th>2024-12-03 17:27:00</th>\n",
       "      <td>4.526224</td>\n",
       "      <td>128.501953</td>\n",
       "      <td>2648.176270</td>\n",
       "      <td>1204.921143</td>\n",
       "      <td>2566.624268</td>\n",
       "      <td>310.162842</td>\n",
       "      <td>135.644791</td>\n",
       "      <td>5.495455</td>\n",
       "      <td>50.865265</td>\n",
       "      <td>26.837736</td>\n",
       "      <td>...</td>\n",
       "      <td>723.860962</td>\n",
       "      <td>143.234375</td>\n",
       "      <td>681.823242</td>\n",
       "      <td>157.698410</td>\n",
       "      <td>20.646484</td>\n",
       "      <td>19.347656</td>\n",
       "      <td>61.292969</td>\n",
       "      <td>13.074998</td>\n",
       "      <td>58.251953</td>\n",
       "      <td>0</td>\n",
       "    </tr>\n",
       "    <tr>\n",
       "      <th>2024-12-03 17:30:00</th>\n",
       "      <td>4.526224</td>\n",
       "      <td>128.619141</td>\n",
       "      <td>2654.141602</td>\n",
       "      <td>1204.876221</td>\n",
       "      <td>2562.370361</td>\n",
       "      <td>309.737427</td>\n",
       "      <td>135.528778</td>\n",
       "      <td>5.495455</td>\n",
       "      <td>52.113403</td>\n",
       "      <td>25.777952</td>\n",
       "      <td>...</td>\n",
       "      <td>724.032837</td>\n",
       "      <td>143.140625</td>\n",
       "      <td>683.062500</td>\n",
       "      <td>157.435898</td>\n",
       "      <td>19.974609</td>\n",
       "      <td>19.347656</td>\n",
       "      <td>61.507812</td>\n",
       "      <td>13.290003</td>\n",
       "      <td>58.353516</td>\n",
       "      <td>0</td>\n",
       "    </tr>\n",
       "    <tr>\n",
       "      <th>...</th>\n",
       "      <td>...</td>\n",
       "      <td>...</td>\n",
       "      <td>...</td>\n",
       "      <td>...</td>\n",
       "      <td>...</td>\n",
       "      <td>...</td>\n",
       "      <td>...</td>\n",
       "      <td>...</td>\n",
       "      <td>...</td>\n",
       "      <td>...</td>\n",
       "      <td>...</td>\n",
       "      <td>...</td>\n",
       "      <td>...</td>\n",
       "      <td>...</td>\n",
       "      <td>...</td>\n",
       "      <td>...</td>\n",
       "      <td>...</td>\n",
       "      <td>...</td>\n",
       "      <td>...</td>\n",
       "      <td>...</td>\n",
       "      <td>...</td>\n",
       "    </tr>\n",
       "    <tr>\n",
       "      <th>2024-12-06 17:03:00</th>\n",
       "      <td>4.526224</td>\n",
       "      <td>127.798828</td>\n",
       "      <td>2659.242432</td>\n",
       "      <td>1205.352173</td>\n",
       "      <td>2567.460205</td>\n",
       "      <td>311.078369</td>\n",
       "      <td>135.508728</td>\n",
       "      <td>5.497415</td>\n",
       "      <td>53.332291</td>\n",
       "      <td>30.541973</td>\n",
       "      <td>...</td>\n",
       "      <td>730.598450</td>\n",
       "      <td>141.250000</td>\n",
       "      <td>684.685547</td>\n",
       "      <td>156.910873</td>\n",
       "      <td>21.205078</td>\n",
       "      <td>22.390625</td>\n",
       "      <td>65.121094</td>\n",
       "      <td>13.131935</td>\n",
       "      <td>57.257812</td>\n",
       "      <td>1</td>\n",
       "    </tr>\n",
       "    <tr>\n",
       "      <th>2024-12-06 17:06:00</th>\n",
       "      <td>4.526224</td>\n",
       "      <td>127.933594</td>\n",
       "      <td>2652.085938</td>\n",
       "      <td>1205.320923</td>\n",
       "      <td>2568.482422</td>\n",
       "      <td>311.319336</td>\n",
       "      <td>135.597992</td>\n",
       "      <td>5.497415</td>\n",
       "      <td>52.846977</td>\n",
       "      <td>29.377831</td>\n",
       "      <td>...</td>\n",
       "      <td>730.804688</td>\n",
       "      <td>141.140625</td>\n",
       "      <td>684.240234</td>\n",
       "      <td>156.779617</td>\n",
       "      <td>20.718750</td>\n",
       "      <td>22.390625</td>\n",
       "      <td>64.814453</td>\n",
       "      <td>13.237483</td>\n",
       "      <td>57.257812</td>\n",
       "      <td>1</td>\n",
       "    </tr>\n",
       "    <tr>\n",
       "      <th>2024-12-06 17:09:00</th>\n",
       "      <td>4.526224</td>\n",
       "      <td>128.173828</td>\n",
       "      <td>2640.503418</td>\n",
       "      <td>1205.632080</td>\n",
       "      <td>2569.037354</td>\n",
       "      <td>310.100586</td>\n",
       "      <td>135.851501</td>\n",
       "      <td>5.497415</td>\n",
       "      <td>53.541771</td>\n",
       "      <td>29.265095</td>\n",
       "      <td>...</td>\n",
       "      <td>731.835938</td>\n",
       "      <td>141.093750</td>\n",
       "      <td>684.811523</td>\n",
       "      <td>156.648346</td>\n",
       "      <td>20.875000</td>\n",
       "      <td>22.390625</td>\n",
       "      <td>64.916016</td>\n",
       "      <td>13.247736</td>\n",
       "      <td>57.150391</td>\n",
       "      <td>1</td>\n",
       "    </tr>\n",
       "    <tr>\n",
       "      <th>2024-12-06 17:12:00</th>\n",
       "      <td>4.526224</td>\n",
       "      <td>128.062500</td>\n",
       "      <td>2648.674072</td>\n",
       "      <td>1199.865601</td>\n",
       "      <td>2571.566895</td>\n",
       "      <td>308.613708</td>\n",
       "      <td>136.113327</td>\n",
       "      <td>5.497415</td>\n",
       "      <td>53.627846</td>\n",
       "      <td>30.234190</td>\n",
       "      <td>...</td>\n",
       "      <td>731.715637</td>\n",
       "      <td>141.171875</td>\n",
       "      <td>685.860352</td>\n",
       "      <td>156.648346</td>\n",
       "      <td>21.117188</td>\n",
       "      <td>22.390625</td>\n",
       "      <td>65.259766</td>\n",
       "      <td>13.251936</td>\n",
       "      <td>57.150391</td>\n",
       "      <td>1</td>\n",
       "    </tr>\n",
       "    <tr>\n",
       "      <th>2024-12-06 17:15:00</th>\n",
       "      <td>4.526224</td>\n",
       "      <td>127.951172</td>\n",
       "      <td>2647.437500</td>\n",
       "      <td>1209.931763</td>\n",
       "      <td>2569.216797</td>\n",
       "      <td>313.278015</td>\n",
       "      <td>135.878326</td>\n",
       "      <td>5.497415</td>\n",
       "      <td>53.450439</td>\n",
       "      <td>30.527157</td>\n",
       "      <td>...</td>\n",
       "      <td>731.543762</td>\n",
       "      <td>141.062500</td>\n",
       "      <td>684.873047</td>\n",
       "      <td>156.385834</td>\n",
       "      <td>21.234375</td>\n",
       "      <td>22.390625</td>\n",
       "      <td>65.367188</td>\n",
       "      <td>13.247783</td>\n",
       "      <td>57.150391</td>\n",
       "      <td>1</td>\n",
       "    </tr>\n",
       "  </tbody>\n",
       "</table>\n",
       "<p>1440 rows × 23 columns</p>\n",
       "</div>"
      ],
      "text/plain": [
       "                     520MX051D01.FIC0028.MEAS  520D007D02.TI0058.MEAS  \\\n",
       "DateTime                                                                \n",
       "2024-12-03 17:18:00                  4.526224              128.748047   \n",
       "2024-12-03 17:21:00                  4.526224              128.748047   \n",
       "2024-12-03 17:24:00                  4.526224              128.507812   \n",
       "2024-12-03 17:27:00                  4.526224              128.501953   \n",
       "2024-12-03 17:30:00                  4.526224              128.619141   \n",
       "...                                       ...                     ...   \n",
       "2024-12-06 17:03:00                  4.526224              127.798828   \n",
       "2024-12-06 17:06:00                  4.526224              127.933594   \n",
       "2024-12-06 17:09:00                  4.526224              128.173828   \n",
       "2024-12-06 17:12:00                  4.526224              128.062500   \n",
       "2024-12-06 17:15:00                  4.526224              127.951172   \n",
       "\n",
       "                     530R001D01.FI0043.MEAS  530E001D01.FIC0015.MEAS  \\\n",
       "DateTime                                                               \n",
       "2024-12-03 17:18:00             2650.876465              1208.079224   \n",
       "2024-12-03 17:21:00             2647.280273              1205.621704   \n",
       "2024-12-03 17:24:00             2648.681396              1202.663818   \n",
       "2024-12-03 17:27:00             2648.176270              1204.921143   \n",
       "2024-12-03 17:30:00             2654.141602              1204.876221   \n",
       "...                                     ...                      ...   \n",
       "2024-12-06 17:03:00             2659.242432              1205.352173   \n",
       "2024-12-06 17:06:00             2652.085938              1205.320923   \n",
       "2024-12-06 17:09:00             2640.503418              1205.632080   \n",
       "2024-12-06 17:12:00             2648.674072              1199.865601   \n",
       "2024-12-06 17:15:00             2647.437500              1209.931763   \n",
       "\n",
       "                     530R001D01.FIC0030.MEAS  530R001D01.FIC0047.MEAS  \\\n",
       "DateTime                                                                \n",
       "2024-12-03 17:18:00              2564.053711               309.998505   \n",
       "2024-12-03 17:21:00              2558.945312               310.041412   \n",
       "2024-12-03 17:24:00              2565.543945               310.122437   \n",
       "2024-12-03 17:27:00              2566.624268               310.162842   \n",
       "2024-12-03 17:30:00              2562.370361               309.737427   \n",
       "...                                      ...                      ...   \n",
       "2024-12-06 17:03:00              2567.460205               311.078369   \n",
       "2024-12-06 17:06:00              2568.482422               311.319336   \n",
       "2024-12-06 17:09:00              2569.037354               310.100586   \n",
       "2024-12-06 17:12:00              2571.566895               308.613708   \n",
       "2024-12-06 17:15:00              2569.216797               313.278015   \n",
       "\n",
       "                     530C021D01.FIC0203.MEAS  530R001D02.FIC0230.MEAS  \\\n",
       "DateTime                                                                \n",
       "2024-12-03 17:18:00               135.635132                 5.495455   \n",
       "2024-12-03 17:21:00               135.638504                 5.495455   \n",
       "2024-12-03 17:24:00               135.618988                 5.495455   \n",
       "2024-12-03 17:27:00               135.644791                 5.495455   \n",
       "2024-12-03 17:30:00               135.528778                 5.495455   \n",
       "...                                      ...                      ...   \n",
       "2024-12-06 17:03:00               135.508728                 5.497415   \n",
       "2024-12-06 17:06:00               135.597992                 5.497415   \n",
       "2024-12-06 17:09:00               135.851501                 5.497415   \n",
       "2024-12-06 17:12:00               136.113327                 5.497415   \n",
       "2024-12-06 17:15:00               135.878326                 5.497415   \n",
       "\n",
       "                     530R002D02.LI0010.MEAS  530M102D01.LIC0011.MEAS  ...  \\\n",
       "DateTime                                                              ...   \n",
       "2024-12-03 17:18:00               47.520363                30.319614  ...   \n",
       "2024-12-03 17:21:00               48.034554                30.020466  ...   \n",
       "2024-12-03 17:24:00               50.629436                30.627666  ...   \n",
       "2024-12-03 17:27:00               50.865265                26.837736  ...   \n",
       "2024-12-03 17:30:00               52.113403                25.777952  ...   \n",
       "...                                     ...                      ...  ...   \n",
       "2024-12-06 17:03:00               53.332291                30.541973  ...   \n",
       "2024-12-06 17:06:00               52.846977                29.377831  ...   \n",
       "2024-12-06 17:09:00               53.541771                29.265095  ...   \n",
       "2024-12-06 17:12:00               53.627846                30.234190  ...   \n",
       "2024-12-06 17:15:00               53.450439                30.527157  ...   \n",
       "\n",
       "                     530R002D02.TI0037.MEAS  530F001D01.TIC0012.MEAS  \\\n",
       "DateTime                                                               \n",
       "2024-12-03 17:18:00              723.362488               143.062500   \n",
       "2024-12-03 17:21:00              723.310974               143.140625   \n",
       "2024-12-03 17:24:00              723.310974               143.171875   \n",
       "2024-12-03 17:27:00              723.860962               143.234375   \n",
       "2024-12-03 17:30:00              724.032837               143.140625   \n",
       "...                                     ...                      ...   \n",
       "2024-12-06 17:03:00              730.598450               141.250000   \n",
       "2024-12-06 17:06:00              730.804688               141.140625   \n",
       "2024-12-06 17:09:00              731.835938               141.093750   \n",
       "2024-12-06 17:12:00              731.715637               141.171875   \n",
       "2024-12-06 17:15:00              731.543762               141.062500   \n",
       "\n",
       "                     530M105D01.TIC0022.MEAS  530UZ1099E01.TZI0068A.MEAS  \\\n",
       "DateTime                                                                   \n",
       "2024-12-03 17:18:00               682.204102                  158.223450   \n",
       "2024-12-03 17:21:00               682.083984                  157.960922   \n",
       "2024-12-03 17:24:00               681.152344                  157.960922   \n",
       "2024-12-03 17:27:00               681.823242                  157.698410   \n",
       "2024-12-03 17:30:00               683.062500                  157.435898   \n",
       "...                                      ...                         ...   \n",
       "2024-12-06 17:03:00               684.685547                  156.910873   \n",
       "2024-12-06 17:06:00               684.240234                  156.779617   \n",
       "2024-12-06 17:09:00               684.811523                  156.648346   \n",
       "2024-12-06 17:12:00               685.860352                  156.648346   \n",
       "2024-12-06 17:15:00               684.873047                  156.385834   \n",
       "\n",
       "                     530M103D01.ZI2103A.MEAS  530M104D01.ZI2104A.MEAS  \\\n",
       "DateTime                                                                \n",
       "2024-12-03 17:18:00                20.548828                19.347656   \n",
       "2024-12-03 17:21:00                20.285156                19.347656   \n",
       "2024-12-03 17:24:00                20.673828                19.347656   \n",
       "2024-12-03 17:27:00                20.646484                19.347656   \n",
       "2024-12-03 17:30:00                19.974609                19.347656   \n",
       "...                                      ...                      ...   \n",
       "2024-12-06 17:03:00                21.205078                22.390625   \n",
       "2024-12-06 17:06:00                20.718750                22.390625   \n",
       "2024-12-06 17:09:00                20.875000                22.390625   \n",
       "2024-12-06 17:12:00                21.117188                22.390625   \n",
       "2024-12-06 17:15:00                21.234375                22.390625   \n",
       "\n",
       "                     530M105D01.ZI2105A.MEAS  535D005D01.LI0011.MEAS  \\\n",
       "DateTime                                                               \n",
       "2024-12-03 17:18:00                60.816406               13.179941   \n",
       "2024-12-03 17:21:00                60.902344               13.179701   \n",
       "2024-12-03 17:24:00                61.302734               13.066221   \n",
       "2024-12-03 17:27:00                61.292969               13.074998   \n",
       "2024-12-03 17:30:00                61.507812               13.290003   \n",
       "...                                      ...                     ...   \n",
       "2024-12-06 17:03:00                65.121094               13.131935   \n",
       "2024-12-06 17:06:00                64.814453               13.237483   \n",
       "2024-12-06 17:09:00                64.916016               13.247736   \n",
       "2024-12-06 17:12:00                65.259766               13.251936   \n",
       "2024-12-06 17:15:00                65.367188               13.247783   \n",
       "\n",
       "                     535INT920D01.TI0046.MEAS  labels  \n",
       "DateTime                                               \n",
       "2024-12-03 17:18:00                 58.453125       0  \n",
       "2024-12-03 17:21:00                 58.351562       0  \n",
       "2024-12-03 17:24:00                 58.355469       0  \n",
       "2024-12-03 17:27:00                 58.251953       0  \n",
       "2024-12-03 17:30:00                 58.353516       0  \n",
       "...                                       ...     ...  \n",
       "2024-12-06 17:03:00                 57.257812       1  \n",
       "2024-12-06 17:06:00                 57.257812       1  \n",
       "2024-12-06 17:09:00                 57.150391       1  \n",
       "2024-12-06 17:12:00                 57.150391       1  \n",
       "2024-12-06 17:15:00                 57.150391       1  \n",
       "\n",
       "[1440 rows x 23 columns]"
      ]
     },
     "execution_count": 70,
     "metadata": {},
     "output_type": "execute_result"
    }
   ],
   "source": [
    "original_test_labeled_final"
   ]
  }
 ],
 "metadata": {
  "kernelspec": {
   "display_name": "Python 3 (ipykernel)",
   "language": "python",
   "name": "python3"
  },
  "language_info": {
   "codemirror_mode": {
    "name": "ipython",
    "version": 3
   },
   "file_extension": ".py",
   "mimetype": "text/x-python",
   "name": "python",
   "nbconvert_exporter": "python",
   "pygments_lexer": "ipython3",
   "version": "3.9.21"
  }
 },
 "nbformat": 4,
 "nbformat_minor": 5
}
