{
 "cells": [
  {
   "cell_type": "markdown",
   "metadata": {},
   "source": [
    "### detection with TRANSFORMERS"
   ]
  },
  {
   "cell_type": "code",
   "execution_count": 1,
   "metadata": {},
   "outputs": [],
   "source": [
    "import torch\n",
    "import torch.nn as nn\n",
    "from sklearn.preprocessing import StandardScaler\n",
    "from sklearn.model_selection import train_test_split\n",
    "from torch.utils.data import DataLoader\n",
    "import pandas as pd\n",
    "import numpy as np"
   ]
  },
  {
   "cell_type": "code",
   "execution_count": 2,
   "metadata": {},
   "outputs": [],
   "source": [
    "# Charger les données\n",
    "df = pd.read_csv(\"../data.csv\", index_col=0, parse_dates=True)\n",
    "features = [col for col in df.columns]\n",
    "\n",
    "# Normaliser les données\n",
    "scaler = StandardScaler()\n",
    "data_scaled = scaler.fit_transform(df[features])\n",
    "\n",
    "# Diviser les données en train/test\n",
    "train_data, test_data = train_test_split(data_scaled, test_size=0.2)"
   ]
  },
  {
   "cell_type": "code",
   "execution_count": 3,
   "metadata": {},
   "outputs": [],
   "source": [
    "# Paramètres du modèle\n",
    "seq_length = 10  # Taille de la séquence temporelle\n",
    "d_model = 64  # Dimension des embeddings\n",
    "nhead = 4  # Nombre de têtes d'attention\n",
    "num_layers = 2  # Nombre de couches de l'encodeur\n",
    "device = torch.device(\"cuda\" if torch.cuda.is_available() else \"cpu\")"
   ]
  },
  {
   "cell_type": "code",
   "execution_count": 4,
   "metadata": {},
   "outputs": [],
   "source": [
    "# Fonction pour créer des séquences temporelles\n",
    "def create_sequences(data, seq_length):\n",
    "    xs = []\n",
    "    for i in range(len(data) - seq_length):\n",
    "        xs.append(data[i:i+seq_length])\n",
    "    return np.array(xs)"
   ]
  },
  {
   "cell_type": "code",
   "execution_count": 5,
   "metadata": {},
   "outputs": [],
   "source": [
    "# Préparer les données d'entraînement\n",
    "train_sequences = create_sequences(train_data, seq_length)\n",
    "train_sequences = torch.tensor(train_sequences, dtype=torch.float32).to(device)"
   ]
  },
  {
   "cell_type": "code",
   "execution_count": 6,
   "metadata": {},
   "outputs": [],
   "source": [
    "# Construire le modèle Transformer Encoder\n",
    "class TransformerAnomalyDetector(nn.Module):\n",
    "    def __init__(self, d_model, nhead, num_layers):\n",
    "        super(TransformerAnomalyDetector, self).__init__()\n",
    "        self.embedding = nn.Linear(train_sequences.shape[2], d_model)\n",
    "        encoder_layer = nn.TransformerEncoderLayer(d_model=d_model, nhead=nhead)\n",
    "        self.transformer_encoder = nn.TransformerEncoder(encoder_layer, num_layers=num_layers)\n",
    "        self.decoder = nn.Linear(d_model, train_sequences.shape[2])\n",
    "\n",
    "    def forward(self, x):\n",
    "        x = self.embedding(x)\n",
    "        x = self.transformer_encoder(x)\n",
    "        x = self.decoder(x)\n",
    "        return x"
   ]
  },
  {
   "cell_type": "code",
   "execution_count": 7,
   "metadata": {},
   "outputs": [
    {
     "name": "stderr",
     "output_type": "stream",
     "text": [
      "c:\\Users\\airec\\anaconda3\\envs\\py310\\lib\\site-packages\\torch\\nn\\modules\\transformer.py:385: UserWarning: enable_nested_tensor is True, but self.use_nested_tensor is False because encoder_layer.self_attn.batch_first was not True(use batch_first for better inference performance)\n",
      "  warnings.warn(\n"
     ]
    }
   ],
   "source": [
    "# Initialiser le modèle\n",
    "model = TransformerAnomalyDetector(d_model=d_model, nhead=nhead, num_layers=num_layers).to(device)\n",
    "criterion = nn.MSELoss()\n",
    "optimizer = torch.optim.Adam(model.parameters(), lr=0.001)"
   ]
  },
  {
   "cell_type": "code",
   "execution_count": 8,
   "metadata": {},
   "outputs": [],
   "source": [
    "def get_batches(data, batch_size):\n",
    "    for i in range(0, len(data), batch_size):\n",
    "        yield data[i:i + batch_size]"
   ]
  },
  {
   "cell_type": "code",
   "execution_count": 9,
   "metadata": {},
   "outputs": [
    {
     "name": "stdout",
     "output_type": "stream",
     "text": [
      "Epoch [1/5], Loss: 0.0317\n",
      "Epoch [2/5], Loss: 0.0013\n",
      "Epoch [3/5], Loss: 0.0006\n",
      "Epoch [4/5], Loss: 0.0004\n",
      "Epoch [5/5], Loss: 0.0003\n"
     ]
    }
   ],
   "source": [
    "# Entraînement\n",
    "batch_size = 512  # Ajustez selon votre capacité GPU\n",
    "epochs = 5\n",
    "model.train()\n",
    "for epoch in range(epochs):\n",
    "    epoch_loss = 0\n",
    "    for batch in get_batches(train_sequences, batch_size):\n",
    "        optimizer.zero_grad()\n",
    "        batch = batch.to(device)  # Assurez-vous que le batch est envoyé au GPU si disponible\n",
    "\n",
    "        output = model(batch)\n",
    "        loss = criterion(output, batch)\n",
    "        loss.backward()\n",
    "        optimizer.step()\n",
    "\n",
    "        epoch_loss += loss.item()\n",
    "\n",
    "    avg_loss = epoch_loss / (len(train_sequences) / batch_size)\n",
    "    print(f\"Epoch [{epoch+1}/{epochs}], Loss: {avg_loss:.4f}\")"
   ]
  },
  {
   "cell_type": "code",
   "execution_count": 10,
   "metadata": {},
   "outputs": [],
   "source": [
    "# Prédiction sur les données de test\n",
    "model.eval()\n",
    "test_sequences = create_sequences(test_data, seq_length)\n",
    "test_sequences = torch.tensor(test_sequences, dtype=torch.float32)\n",
    "\n",
    "test_loader = DataLoader(test_sequences, batch_size=512, shuffle=False)\n",
    "predictions = []\n",
    "\n",
    "with torch.no_grad():\n",
    "    for batch in test_loader:\n",
    "        batch = batch.to(device)\n",
    "        output = model(batch)\n",
    "        predictions.append(output.cpu())\n",
    "\n",
    "predictions = torch.cat(predictions, dim=0)"
   ]
  },
  {
   "cell_type": "code",
   "execution_count": 11,
   "metadata": {},
   "outputs": [],
   "source": [
    "# Calcul des erreurs de reconstruction\n",
    "errors = torch.mean((predictions - test_sequences) ** 2, dim=(1, 2)).cpu().numpy()"
   ]
  },
  {
   "cell_type": "code",
   "execution_count": 14,
   "metadata": {},
   "outputs": [
    {
     "name": "stdout",
     "output_type": "stream",
     "text": [
      "Nombre d'anomalies détectées : 11462\n",
      "Indices des anomalies détectées : [    0     1     2 ... 11459 11460 11461]\n"
     ]
    }
   ],
   "source": [
    "# Détection d'anomalies (en utilisant un seuil arbitraire)\n",
    "anomaly_threshold = np.percentile(errors, 95)  # Par exemple, on prend le 95ème percentile\n",
    "anomalies = np.where(errors > anomaly_threshold)[0]\n",
    "\n",
    "anomaly_indices = anomalies.nonzero()[0]\n",
    "anomalous_data = test_data[anomaly_indices]\n",
    "print(f\"Nombre d'anomalies détectées : {len(anomalies)}\")\n",
    "print(f\"Indices des anomalies détectées : {anomaly_indices}\")"
   ]
  },
  {
   "cell_type": "code",
   "execution_count": 15,
   "metadata": {},
   "outputs": [
    {
     "name": "stdout",
     "output_type": "stream",
     "text": [
      "Lignes du dataset correspondant aux anomalies : \n",
      "[[ 0.          0.66733935  0.52670696 ...  0.24623948 -1.53516092\n",
      "  -0.15570735]\n",
      " [ 0.         -1.31228543  0.58735628 ...  0.39204772  0.78371849\n",
      "   0.20798116]\n",
      " [ 0.          0.75023134  0.60088994 ...  0.20573691 -0.26691177\n",
      "  -0.05553508]\n",
      " ...\n",
      " [ 0.         -0.46194841 -0.86320546 ...  0.2408388  -0.30762382\n",
      "   0.20617625]\n",
      " [ 0.         -0.5318844   0.47407767 ...  0.19763639  0.31478361\n",
      "   0.15293153]\n",
      " [ 0.         -0.63235955 -1.42801562 ...  0.33804463 -0.33648399\n",
      "   0.20617625]]\n"
     ]
    }
   ],
   "source": [
    "print(f\"Lignes du dataset correspondant aux anomalies : \\n{anomalous_data}\")"
   ]
  }
 ],
 "metadata": {
  "kernelspec": {
   "display_name": "py310",
   "language": "python",
   "name": "python3"
  },
  "language_info": {
   "codemirror_mode": {
    "name": "ipython",
    "version": 3
   },
   "file_extension": ".py",
   "mimetype": "text/x-python",
   "name": "python",
   "nbconvert_exporter": "python",
   "pygments_lexer": "ipython3",
   "version": "3.10.15"
  }
 },
 "nbformat": 4,
 "nbformat_minor": 2
}
